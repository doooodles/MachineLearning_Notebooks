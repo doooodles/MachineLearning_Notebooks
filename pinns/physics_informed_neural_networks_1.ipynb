{
 "cells": [
  {
   "cell_type": "markdown",
   "metadata": {
    "id": "gaMsY6EQuFJB"
   },
   "source": [
    "# Physics informed neural networks\n",
    "\n",
    "\n",
    "## Resources \n",
    "- [Physics Informed Neural Networks](https://maziarraissi.github.io/PINNs/)\n",
    "- [BFGS vs Adam](https://stats.stackexchange.com/questions/315626/the-reason-of-superiority-of-limited-memory-bfgs-over-adam-solver)\n",
    "- [BFGS](https://machinelearningmastery.com/bfgs-optimization-in-python/)\n",
    "- [Another TF2 PINN implementation](https://github.com/pierremtb/PINNs-TF2.0)\n",
    "- [MLTP 2020 Presentation](https://mltp2020.com/Presentations/Karniadakis_NSF_MLTP2020.pdf)\n",
    "- [CIS522: Deep learning](https://www.seas.upenn.edu/~cis522/slides/CIS522_Lecture11T.pdf)\n",
    "\n"
   ]
  },
  {
   "cell_type": "markdown",
   "metadata": {},
   "source": [
    "# Imports and functions"
   ]
  },
  {
   "cell_type": "code",
   "execution_count": 1,
   "metadata": {
    "colab": {
     "base_uri": "https://localhost:8080/"
    },
    "id": "KX1CL_BqgwYI",
    "outputId": "733e1166-2e58-4a90-d75c-2f28e9392e2a"
   },
   "outputs": [],
   "source": [
    "# !git clone https://github.com/maziarraissi/PINNs.git"
   ]
  },
  {
   "cell_type": "code",
   "execution_count": 2,
   "metadata": {
    "colab": {
     "base_uri": "https://localhost:8080/"
    },
    "id": "XcuWkQkHZD69",
    "outputId": "ef5f97d4-f5ea-4101-a069-bab37383fc8c"
   },
   "outputs": [],
   "source": [
    "# !pip install scipy==1.7\n",
    "# !pip install pyDOE"
   ]
  },
  {
   "cell_type": "code",
   "execution_count": 3,
   "metadata": {
    "id": "lhln2XmcX8Y8"
   },
   "outputs": [],
   "source": [
    "import tensorflow as tf\n",
    "from tensorflow.keras import layers\n",
    "import tensorflow_probability as tfp\n",
    "import scipy\n",
    "from scipy.io import loadmat\n",
    "import matplotlib.pyplot as plt\n",
    "import numpy as np\n",
    "from pyDOE import lhs\n"
   ]
  },
  {
   "cell_type": "code",
   "execution_count": 4,
   "metadata": {},
   "outputs": [],
   "source": [
    "import matplotlib.gridspec as gridspec\n",
    "from mpl_toolkits.axes_grid1 import make_axes_locatable\n",
    "from scipy.interpolate import griddata\n",
    "\n",
    "def plot_results(U_pred, X_u_train, truth, x, t):\n",
    "    # copied this figure directly from the paper\n",
    "    plt.figure(figsize=(15,10))   \n",
    "    gs0 = gridspec.GridSpec(1, 2)\n",
    "    gs0.update(top=1-0.06, bottom=1-1/3, left=0.15, right=0.85, wspace=0)\n",
    "    ax = plt.subplot(gs0[:, :])\n",
    "\n",
    "    h = ax.imshow(U_pred.T, interpolation='nearest', cmap='rainbow', \n",
    "                    extent=[t.min(), t.max(), x.min(), x.max()], \n",
    "                    origin='lower', aspect='auto')\n",
    "    divider = make_axes_locatable(ax)\n",
    "    cax = divider.append_axes(\"right\", size=\"5%\", pad=0.05)\n",
    "    plt.colorbar(h, cax=cax)\n",
    "\n",
    "    ax.plot(X_u_train[:,1], X_u_train[:,0], 'kx', label = 'Data (%d points)' % (u_train.shape[0]), markersize = 4, clip_on = False)\n",
    "\n",
    "    line = np.linspace(x.min(), x.max(), 2)[:,None]\n",
    "    ax.plot(t[25]*np.ones((2,1)), line, 'w-', linewidth = 1)\n",
    "    ax.plot(t[50]*np.ones((2,1)), line, 'w-', linewidth = 1)\n",
    "    ax.plot(t[75]*np.ones((2,1)), line, 'w-', linewidth = 1)    \n",
    "\n",
    "    ax.set_xlabel('$t$')\n",
    "    ax.set_ylabel('$x$')\n",
    "    ax.legend(frameon=False, loc = 'upper right')\n",
    "    ax.set_title('$u(t,x)$', fontsize = 10)\n",
    "\n",
    "    gs1 = gridspec.GridSpec(1, 3)\n",
    "    gs1.update(top=1-1/3, bottom=0, left=0.1, right=0.9, wspace=0.5)\n",
    "\n",
    "    ax = plt.subplot(gs1[0, 0])\n",
    "    ax.plot(x,truth[25,:], 'b-', linewidth = 2, label = 'truth')       \n",
    "    ax.plot(x,U_pred[25,:], 'r--', linewidth = 2, label = 'Prediction')\n",
    "    ax.set_xlabel('$x$')\n",
    "    ax.set_ylabel('$u(t,x)$')    \n",
    "    ax.set_title('$t = 0.25$', fontsize = 10)\n",
    "    ax.axis('square')\n",
    "    ax.set_xlim([-1.1,1.1])\n",
    "    ax.set_ylim([-1.1,1.1])\n",
    "\n",
    "    ax = plt.subplot(gs1[0, 1])\n",
    "    ax.plot(x,truth[50,:], 'b-', linewidth = 2, label = 'truth')       \n",
    "    ax.plot(x,U_pred[50,:], 'r--', linewidth = 2, label = 'Prediction')\n",
    "    ax.set_xlabel('$x$')\n",
    "    ax.set_ylabel('$u(t,x)$')\n",
    "    ax.axis('square')\n",
    "    ax.set_xlim([-1.1,1.1])\n",
    "    ax.set_ylim([-1.1,1.1])\n",
    "    ax.set_title('$t = 0.50$', fontsize = 10)\n",
    "    ax.legend(loc='upper center', bbox_to_anchor=(0.5, -0.35), ncol=5, frameon=False)\n",
    "\n",
    "    ax = plt.subplot(gs1[0, 2])\n",
    "    ax.plot(x,truth[75,:], 'b-', linewidth = 2, label = 'truth')       \n",
    "    ax.plot(x,U_pred[75,:], 'r--', linewidth = 2, label = 'Prediction')\n",
    "    ax.set_xlabel('$x$')\n",
    "    ax.set_ylabel('$u(t,x)$')\n",
    "    ax.axis('square')\n",
    "    ax.set_xlim([-1.1,1.1])\n",
    "    ax.set_ylim([-1.1,1.1])    \n",
    "    ax.set_title('$t = 0.75$', fontsize = 10)\n",
    "    plt.show();"
   ]
  },
  {
   "cell_type": "markdown",
   "metadata": {
    "id": "mWo3_LIafh1a"
   },
   "source": [
    "# Data"
   ]
  },
  {
   "cell_type": "code",
   "execution_count": 5,
   "metadata": {
    "colab": {
     "base_uri": "https://localhost:8080/"
    },
    "id": "FJEkJyezYbTp",
    "outputId": "d6e37261-3e18-407d-b936-4dd9f55b6bd3"
   },
   "outputs": [
    {
     "data": {
      "text/plain": [
       "dict_keys(['__header__', '__version__', '__globals__', 'x', 't', 'usol'])"
      ]
     },
     "execution_count": 5,
     "metadata": {},
     "output_type": "execute_result"
    }
   ],
   "source": [
    "# data = loadmat('/content/PINNs/appendix/Data/burgers_shock.mat')\n",
    "data = loadmat('./burgers_shock.mat')\n",
    "data.keys()"
   ]
  },
  {
   "cell_type": "code",
   "execution_count": 6,
   "metadata": {
    "colab": {
     "base_uri": "https://localhost:8080/"
    },
    "id": "IYcuMz_ZZBWp",
    "outputId": "aec6c372-a15b-490e-da68-7c1cfdc52025"
   },
   "outputs": [
    {
     "data": {
      "text/plain": [
       "((256, 1), (100, 1), (256, 100))"
      ]
     },
     "execution_count": 6,
     "metadata": {},
     "output_type": "execute_result"
    }
   ],
   "source": [
    "data['x'].shape, data['t'].shape, data['usol'].shape"
   ]
  },
  {
   "cell_type": "code",
   "execution_count": 7,
   "metadata": {
    "colab": {
     "base_uri": "https://localhost:8080/",
     "height": 446
    },
    "id": "XdR-rrLlcjNQ",
    "outputId": "558a3ed9-4d1d-4151-9509-39a6886b24b2"
   },
   "outputs": [
    {
     "data": {
      "image/png": "iVBORw0KGgoAAAANSUhEUgAAAz0AAAJfCAYAAABVI7iQAAAAOXRFWHRTb2Z0d2FyZQBNYXRwbG90bGliIHZlcnNpb24zLjMuMywgaHR0cHM6Ly9tYXRwbG90bGliLm9yZy/Il7ecAAAACXBIWXMAAA9hAAAPYQGoP6dpAACfQUlEQVR4nO3de5RdVZ0v+u9+1K6IUAlISBGJ8jwCl5cdTAzqPSoZJMCx5bS20KI8DpJWQRuCAqGR8FDDqz0IcqClQWA0NB4dwlVxRDFIe9UcUOgMX0hfMBpEKrxMiiSkqvbe6/5RTbVVtX8z9Zv1m3PNtfb3M0YNza6951xr7V1FrfVdv9+sZFmWgYiIiIiIqKSqeW8AERERERFRSDzpISIiIiKiUuNJDxERERERlRpPeoiIiIiIqNR40kNERERERKXGkx4iIiIiIio1nvQQEREREVGp8aSHiIiIiIhKjSc9RERERERUajzpISIiIiKiUivUSc8Pf/hDvOc978HcuXNRqVRw33337fA1Dz30EP7iL/4Cvb292H///XH77bdPes6NN96IvffeGzNmzMDChQvxyCOP2G88ERERERHlolAnPVu3bsXhhx+OG2+8cUrPX79+PY4//ni8613vwrp163DOOefgIx/5CL773e+OPeerX/0qli9fjpUrV+Kxxx7D4YcfjiVLluC5554LtRtERERERBRRJcuyLO+N8FGpVHDvvffihBNOEJ9zwQUX4P7778cvf/nLscdOOukkbNq0CatXrwYALFy4EG95y1vwpS99CQDQbrcxb948fOITn8CFF14YdB+IiIiIiCi8et4bENLatWuxePHicY8tWbIE55xzDgBgeHgYjz76KFasWDH2/Wq1isWLF2Pt2rXiuENDQxgaGhr7d7vdxksvvYTXve51qFQqtjtBRERERNOWZRlefvllzJ07F9VqWjc7bd++HcPDw1HmajQamDFjRpS5UlLqk56BgQHMmTNn3GNz5szB4OAgXnnlFfzpT39Cq9Xq+Jzf/OY34rirVq3CZZddFmSbiYiIiCicp59+GnvttVfemzFm+/bt2Oc1r8FApPn6+/uxfv36rjvxKfVJTygrVqzA8uXLx/69efNmvOENb8C5G76C3r6dctwyIiIiIupkaHAb/ucbTscuu+yS96aMMzw8jAEATwPoCzzXIIB5AwMYHh7mSU+Z9Pf3Y+PGjeMe27hxI/r6+vCa17wGtVoNtVqt43P6+/vFcXt7e9Hb2zv5G319QN9rp7RtVRSylKrrVNHOexOIiEzxvz/UrTKMliCkWorQV62gL/S2ZRnQ7s7fAWnd0Ghs0aJFWLNmzbjHHnjgASxatAjA6D2N8+fPH/ecdruNNWvWjD2HiIiIiIiKrVBJz5YtW/Dkk0+O/Xv9+vVYt24ddtttN7zhDW/AihUr8Mwzz+DOO+8EAHz0ox/Fl770JZx//vn4H//jf+DBBx/E//7f/xv333//2BjLly/HqaeeiiOPPBILFizAddddh61bt+L0009Xb98waqigNqXnFu1KW9G210oVaV4N6kbd+hkksscEm7pTO/X/ptcqQPCkB12b9BTqpOdnP/sZ3vWud439+9W6mlNPPRW33347nn32WWzYsGHs+/vssw/uv/9+nHvuufjiF7+IvfbaC//0T/+EJUuWjD3nxBNPxPPPP49LLrkEAwMDOOKII7B69epJzQ2IiIiIiKiYCrtOT0oGBwcxc+ZMLPvTt9BIqKYn1Svj1Uqa29VJqscwtG7d7zzxmFMs/KxRtxoa3Ip/mPV+bN68GX19oVsGTN2rf0du7qkGr+kZzDLMHGkndwxiKFTSQ0RERERUSrVqhNvbMmCkO29x5UmPoeF2DWhPsabHMO2IkhpZpjPCUClefUxxmySW71GK9z0X6b3wkecxL/uxJSIC0vxvG8XDkx4iIiIiorzVIzUy6FKlbllNRERERETEpMfQcFYDsine3ubRP8Lq9iWvW1mkW9IiNCXI89abPJsuaPe7nZX79qhcb/8qUPMNH5bHlrfKEdGf4+8EhVg1PV2KSQ8REREREZUakx5DI4EbGWjToSjNEjymyDWxKtAcRUo2YmxrnlcLY6RoZbkaapoalTxhI4ol19+fCTUPSGlbOqpWRr9C6s7GbQCY9BARERERUckx6TE03K4im2rS43HVRbrqKV4NjZDCeO2H0RWnsic9pnNokxvDZMNq/6KkSTkmC6yrmUz6HJZl/3KT+MVuGmX5OU8+4Ygk+eNQq4ZPero4QWfSQ0REREREpcakx9D2Zh2t5vhDqk5nXN8z6qBmmTJ5PT9wJzjLq2MxxrK68uQ6flbJjc/xiLF/VnyOU4qpg/aYF612Rr1/Cb5HueLhCKbsi0QXXfLHlElPUEx6iIiIiIio1Jj0GBpp1ZC1xtf0mCY9yud7dYgzSpl81iGSmKZM2rkTTI2k/YtRh5NnZ64U64yAYiVZkrIkXBLpPSpawkXxFWm9tLLrip/XWoTubV38EWXSQ0REREREpcakx9Bwu4p2a/x5pF/SIz2eXgJkmiZJz1deaUs1ZbKqs4hxVT5GTYh2P/JMZ1hPNFkZ0hPXMS9SkqXWxVd6JSmul1YWZh08DVK05JM41vQExaSHiIiIiIhKjUmPoeFmDe2mQU1PVfca+XGPK8dGiU6eaVKeNT15pkwxxipS+gTY7XeqKUyKaUtp1tZJ/ILwtBTsrbAk/g4r9Ruul2Ldo4WUtqUj1vQExaSHiIiIiIhKjUmPoZFmFe3mVGt65HHMkh7lOO7tkq4oS+PkvBZQTnNYbpNlzYt6LMtEx+jKKuuGFHPnuN+SFFMpl9IkVp2U/Eqv5e/CslB3yyzphyRLfb9qldG6npBa7bDjJ4xJDxERERERlRqTHkPDI1XURibU9HikLfVa57NwbY2OX9JjlRo5uiIZ1SCVPenRPt+y5qXsKZMkxbqhsqcwReugVrTEqqMCbapLt9bn+PxcMOEi4kkPEREREVH+apXRr6C68wQY4EmPqeFmFbUp1vTUa/or4+oURpjClahIY0G4BdSyO534fI+6KHks3bHVvhfOq9ZWqUqEuiHLhEQ9lmHiEePYWh1DcXzDY6ueO+cUplCpSoKbJCrL3zxFOuYemGRN38TfYd2aeNEonvQQEREREeWtVg3fyKCL8cgSEREREVGpMekxNNKsojUy/jxSuo2t7VjEUr6NTfv8GAujCrefOG5h0y7gqd0/r7GUibflwq/a5/vcThX6Nq8Yc8doMlCWW+ss5xDnTrD5Qa6ND4p010zBbgsry21e6gWZS3IrVkrtspP/zDDpCYpHloiIiIiISo1Jj6HhkRqqE1pWt9tC+2lXEiJciKjXpVbWwjgeiYCUwqjTlrZPy2rh+WKjBsOkx6i5gvs12ucXp8GB6aKlho0BUmzUIM4RIb0I3XQh1hzi3EyfpibRi93SsSpS4uFMvVM98ApFb5ed0rZ0xO5tQTHpISIiIiKiUmPSY2h4uIrq8PjzyLZwhKX6HEBenLSddX6ROiFxpkxh64l8XiMPJV3VFac2S428UhVlvVRbbDnu0y678+NWiU6MFKZoaZJ2m8TxmTIVW4oXVVM95CkeK0EZUikgrXqbGJLfftb0BMUjS0REREREpcakx1CrVUG7OWEhrHbn88p63XHfr/AaKW2RkiFxcVJXvY0yCdHWE42+RjuHMoVxdo6Ttkl5td6jM167ZXOl22tuw9So8zjFSmFipElW2xRrrI5iXBSNkDp0bcokSfVid4JvR9k7xxUpmeqKn9dqhJqeAr3n1pj0EBERERFRqTHpMTQ8XEWlZ/x5pHRVvi1dene8RkqHtMmQ62qJ2CFOSId8amR80qHO4/jMbdS9zSgxcs0tXmE0Soxcc4vPV9YfuV+jq8ly1ywVP20p0jb5jCXOEaFmScSUKReFSk8K9DaVpXNcyFQq+WQrRk1PgT7T1pj0EBERERFRqTHpMdQp6ZHTGVfaonuNNhlydY5rZ7WOj6s7rjkShHpN+F6r88NyEiI837CeSD2OR9c6ObnRpWs+V+W1qZG4Dopjv/V1NZ3Hcdcs6Tv56cZJsN7GQ9H2L/QcZU+ZaOpSTJ+03RNTTTFS6hCXfOIVY52eRD8nMTDpISIiIiKiUmPSY2hkuArUJ6zTI1y2lmpnRl/T+SxcrLcRLmfLc+vricT6IOlKrCPJ0iZWedYTqRMPj3oi8fnqdYscYxmlRtrEyPkaZWrklWR5pEb6uVVDmXaUS7EuJMWEK0l5Xmzt4rfCsnOjlRRTJonP2l0pJVApbUtHrOkJikkPERERERGVGpMeQ/XhCioTkp6mcKm5LQc96i5t2todKUkaHUuXJmmTIUCfDmkTjxjrEInj+9QTScmGst7GXVcjbJOYhAjjxKjp8ehOZ5Ua+dW2dH5cP5b+CmSKneNiKNr2JifCxW5XIpD81XYqVPoE+CVQ1H140kNERERElDc2MgiKJz2G6iMVVEam9mGSUhsAGG4JtTg9uq5ucgLkqrfRrfmjTYZc81vVDTk7qCnTIW13urbQgQ5Is55Im5D41fR0fjxKTU+E7nSSGF3r9HPbjDM6FtMkcsjx76pUU6ZC1RMl+IexxTpEqSZVFAdPeoiIiIiI8sZGBkGxkQEREREREZUakx5DjeEKKhPuxawKDQuajiMv3WolNkXo6TyJtvU1oG9YIJ03O28xk25jM2qW4GwmELhZgvPWQeVtaeLtcFKDCo+20bk2UVDfkiZOEbyRgc+xlV+ge7pty2rLS3y8TWQ6itaKvFB4a90kKd7GZrl0wFRlCd62N061Ej7pcSwpUnZMeoiIiIiIqNSY9BiqjVRRndCyuio0JagKTQkAoOn4XidS84GmsvU1YNf+2jJNskqGnGMFbqMNOAr6jRZf9WrpXKAmCq6LU1apUaotucW5S9CqO8+FX6nY8kwvUmzpzJRpx1Js0DBOjO5tjmU9yo5JDxERERERlRqTHkON7RVUK+PPoJs9duNr64PE2iAhzQH07bLFK8qGaZLpwqiB64akZMg9hzIR8Kgn0rbYLlI9EWCXGqXYktsrpXAsftz56Xatum1Zzd+9VzapfFJMmQA5aUoxZUpWjO5trOkhIiIiIiIqJyY9hhrDlUlJgnhV3pUICN9rCl3aJG3l1V4AkAKapvD8ak143Hkzvm5BU6taH8uxvFImq0VWlQnJ6BzKK/lioiM83XU1TTiGVguHAo790P4MeF0GUl41U95P7bPfZqmRz++QHBd4lcfp/HieC7+WRUr1GiEkWTeU49wuoZMmV82SZOKxSj7kYE1PUEx6iIiIiIio1Jj0GKp3SHrkq8D6M+1qS1gTR6jDkbrASbVBgF19UNPV7UqIk0LX+liOFSVlskqGIF+wt1qHyJlGKLvNyUmBOIW4g+q6mgTriZy0V+zyXCPIIzWSJzccywzXQAqFaVI555aErFnKu+5ph1jTE1SS/+kgIiIiIiKywqTHUG2kgtqU78V0pBHC1WarTnBetT7ablCO02lpXZpm4Fof11jyukLaq0KuKyhCbYt2nR5lMgR41EBI44gphWr4/5hDm8LIY1l1m7OsJ7Kaw71GkLBNRusWORmlRjG604mSvewX+kps4le7c5Bi4lF2eRzz5N9P1vQEleyvfCIiIiIiIguFS3puvPFGXHPNNRgYGMDhhx+OG264AQsWLOj43He+853413/910mPH3fccbj//vsBAKeddhruuOOOcd9fsmQJVq9erd62xlAFtQlX0KTUxtW9TarF0RLrcJzjd76E6kputM9vCx3fmsI5uFQf5NM5Tkp0mk2hXipKTY9N3ZcrjVPXDRklQ6NzCI9L69t4rENk1W3Osp5IpL3U5JNqqC9neXRFskqNPC695dmdTlSoS4isP8pDt9bupDh3sqoRanqEOvAdSfnv76kq1EnPV7/6VSxfvhw333wzFi5ciOuuuw5LlizBE088gT322GPS87/xjW9geHh47N8vvvgiDj/8cPz1X//1uOctXboUX/nKV8b+3dvbG24niIiIiIgKoix/fxfqpOcLX/gCzjzzTJx++ukAgJtvvhn3338/brvtNlx44YWTnr/bbruN+/c999yDnXbaadJB7+3tRX9//7S3rz5cQa0SrnubROrG5lMDJHWI06ZPUpoD2NUHSYlA27GeUehEJ9/OceLUIum9sEyG9DVL0po78s+Mdg51/YwjmdWmQ2WpJ5KFXbfIid3pcmB3JV1Mfw0TgdCpg/N3YeBkI8+5XfOnNDdreuA1fup/f09VYX61Dg8P49FHH8XixYvHHqtWq1i8eDHWrl07pTFuvfVWnHTSSXjta1877vGHHnoIe+yxB970pjfhYx/7GF588UXnOENDQxgcHBz3RURERERUBBP/jh0aGur4vJT+/p6uwiQ9L7zwAlqtFubMmTPu8Tlz5uA3v/nNDl//yCOP4Je//CVuvfXWcY8vXboUf/VXf4V99tkHTz31FC666CIce+yxWLt2LWq1znHFqlWrcNlll016vD5SQW3KN7Tru3xVhfoEOdHRp0za2h25bki+7GlVH6StDQLs6oMsO8flmzKJL+lImww5vyetreNR06NPPMShOo/jlbYIz5euxvq1wNOJUE9ktW4R4JO2pJca5dmdTj7mqV7tjlF/keq+T12KiUqM+S3mTvezH9+8efPG/XvlypW49NJLJz0vpb+/p6swJz3Tdeutt+LQQw+dVHR10kknjf3/Qw89FIcddhj2228/PPTQQzj66KM7jrVixQosX7587N+Dg4OTPjxERERERFMWY3HS2ujJ49NPP42+vr6xh0PV01j+/T1dhTnp2X333VGr1bBx48Zxj2/cuHGH9wNu3boV99xzDy6//PIdzrPvvvti9913x5NPPike9N7e3o4fjtpIBfVJNT2dSQkJAFSFzhrNxpSGngLH1RLl1Wa5Pkf+oW0r6wSkRMdrvSFlfZA2Gao7f6Ks6ruEq3yuz1SR6oaUydDoHMp0KHAy5GTUaQ5Is55IFKELnXbdIvdgRm96njeRW9YZSQpzk/yrjLqjlqD+qBvnZtLzn/r6+sad9EhS+vt7ugrz66rRaGD+/PlYs2bN2GPtdhtr1qzBokWLnK/92te+hqGhIXzoQx/a4Tx/+MMf8OKLL2LPPfec9jYTEREREU3Jq40MQn8plOnv78Kc9ADA8uXLccstt+COO+7A448/jo997GPYunXrWDeJU045BStWrJj0ultvvRUnnHACXve61417fMuWLfj0pz+N//N//g9+97vfYc2aNXjve9+L/fffH0uWLImyT0REREREqSrL39+Fub0NAE488UQ8//zzuOSSSzAwMIAjjjgCq1evHiuu2rBhA6oT7ut44okn8KMf/Qjf+973Jo1Xq9Xw85//HHfccQc2bdqEuXPn4phjjsEVV1zhdW9j45UK6hNuHxGbDzT0jQysuG6tU7emNrzFTDuHtK31EX2jBrEpgvATIu12U5w530YGVrfWmTYyiDGHVbMEx7HV3hKnn1ucWubqDtBxjgSbKPjMYTm3VVG9x21yti3EA0uwVXecYvtyNF0o621sO5ojWRFrejRS//t7qipZlhXsE5GewcFBzJw5E287+QXUG+Pvj5ROblwnPVLtjvRHvjiH8HzXGjriHMqxXCdPUk2PPIfy+Y7fF9Lc8klP5+dnYq2PTwc13Xo12nGsx9LPneMcyv/gqdcOco2l/O+27dza/VZPYXZsLedIcm7LhnLan5kIf/BZzmF1Ule0/ZbnCD5FricFebxPI4Nb8N29/m9s3rx5SvUssbz6d+Tm//EX6GuE6Vw2NtdwCzNveyy5YxBDoZKe1NVHgPqkX1I+v7XCLmgqFUx7jSVeUbZriy0X6He+xOg86RHbXAupkbAf2oYIQFnaZctzSMwaGThpF90UhlEmQ6Nj6dOhzpMInzWPudVtoxNsouCeI70mCjLDP+y0qZHhBeMoiUCuyZ4wVI5phDawdc/R+fGyJzrFXJw0dNITo8NJmgpV00NERERERKTFpMdQfaTSIRmwTG2M6jKc93MqxxJTI8ftez2d56iPCHMo22K7WmJra5Ck52trg1yvkYO3/D472roTy5qeGC25zZKh0Rd1flh5DKWPpjPVsFyMs+PkHq8pST2RTzJlNbesOIu1OocKfeU/wTqj/OV3O57V+2pRq5WlnvRUK+Hva4xx32SiSvPjTERERERE1AmTHkO1YWBy3bt0Rm3ZvU15Fd9Z06Mcy6veTmpAICwQalRvMzpWZ9IPgrrbm8/7KmyU1YKpgE9NT/iUSU5C7LrT2c1hV9tieRVanQ6FToYA/aU0n8IF7ZXKPK/855o65FhP5BK4S1uSdUZwpLwJJSHTm8NkiqCJUfI1PdUI3dv8CmdLoXv3nIiIiIiIugKTHkP14Qrqk64i+Fwxt7rKLrVntrta3xS2yeeDpU2N5PV75NfIdUNSaiTttzC+PLVZfVDZO8f5fP7Va98Y1Tj5zFGkZEiqawEcV2MjrEOk7TbnVaslTq58vuWlxTznTjE1KlKdEWD2sxw6MQLy7rhmNkXUsU3UKqNfoefoUkx6iIiIiIio1Jj0GKq2geqEK5D1YcuaHpsEyLUwqlQnI9N32pLoO6vZrRGkTY30nebkueVkSrt/+roTeXOLVdOjrUHSd6fT/7xapU/Sezc6VufHzTqPueS4DpH8At3TWU8UcG4no89hgeqMgDS705UlNdLOnaxahJqe0OMnrHv3nIiIiIiIugKTHkP1YaA+4QpMs9H5uRMToYnjdBY2AQJ8u7HZjKPt0ibX1TiutAXuECdt0yhhjhFdZzxtbZBzLGV9UIzOcaafZ+FYWXans5pDnwwB6ivmwnuRZDIEdO86ROLcyufnWU/kotyuKLUfrDMKJ8Ll9akeq+S7t7GmJygmPUREREREVGpMegzVhyuoT7papL+iLNXcxEiA5LmVdUOOK9DasdzrCumeL+6flLYY1fqMjqXrECfPHaMjoK6+xH2xMHziIdW2aLtzyamN/Bq7OfLsWidwpBRJpkMJrkOk7TTnnrs49UTO2hbt+xQlPdGO0/lxn3pWeRLDofLsxmZ0TFz/DZjqfrhqJKn8eNJDRERERJS3ajX84qFdvDgpT3oM1UYm1/T4dNqSXiOlFFJ9kGXnOKsECNB3adPO7VNPJL3GqtYH8FtXqPPcwvg+NT2B1w4anUNbH5Rn5ziPKQLP4fp5CV83ZJdGdG0yJGE9Ubi5Xcy2y+5za5UaWSQhO5wjQne6kImRaRJHhcOTHiIiIiKivLGRQVDdm3EREREREVFXYNJjqNqcfHeF1MrXfVuYTdG51C7bcu62x61I4u1qytuXpLmbjnGkD7z6NjbhNpNmj/7Yam+VE28X63HdA2LV7MKuiYK2KYKrQYX0cxajXbbdLWOWV9+0t95YLhyaX7ME7Xvh+okRXyNuk2MwKzEWXxXnLk4TBSer7Sr5Yq1lWbS0cIuTViMsTtrFNT3du+dERERERNQVmPQYqg9XUJ90r6SQCPTK41SFK4n14bAJ0OgcyrGEueVtBdTNEgwXJxW3V3i+2HzAY25pYVR9gwPpOMnXMLRtsdWNDBxXT62aIjibJYjfidEu2ya50beylueI0rDALJkqWOtmSYpNFEwTkuI0UbAs6LcsqrdKTwq1WCvSSo24OClY00NERERERFRWTHoMVVuTzyLFdtJD+vGbjbAJ0OgcnR+3SoBGxwpbN+RezFR31U5d6+OxMKpEX+vjmFvZFtuu1sfnNfo5pPqgrOTtsq0WOvVJuOK0A9fNLfJJHUKnQ9pkCIiSDpldlfeIHaTPiH5u9dSyktcTWaZGoRdsNVmcNPWkh+v0BNW9e05ERERERF2BSY+hTkmPlJC4rvprUyApAaq2fBYUteoE51FXIyRA2oRLev7oa4RtUtYTSYmOu16q8+PahVF9khCrDnHa2iDnHEYLpjrHErt26TrHOVMmMdkob1c3y7ndHeLCzu3EuqHpibH4qji3R72NUe1O2euJ3Gzev5CJUfKLk7KmJygmPUREREREVGpMegzVR4D6hATAZ60cKXUQ64OEBEHbJc29XeHXApKvwNgkQO7XdH6+mMJIyZBjv7WJjnaNIKk7nGsO2/V4JPmtBaSdQ1sbBABZ4OTGlaKFr93xSbjEl3iIkX5p5xaUIRkCipcOdWJZkKKe22YYAEnWE0VJsnJcXip3tUr4dXqY9BAREREREZUTkx5D1dbkC2tyDYlrHCGNGNKt+aNNgEa3S5tg2K0FpK2rEa/WO69i6F4jpjAetVrScbdaI8hZ0zOiWyNI2yFO3x0OsOzeVpVqkKzWIXJd3TSqD7JNTtKr3bGcw6prna0SdJQD1OlQ6I5dzrkt61RYTxRkm9yTGA41xdQos1zLKIRqJXw8Vbj4yw6THiIiIiIiKjUmPYYqHZIeiVSfA7jSIZsEyD23LsEQUylnXY3N3FICJNevhJ/DXdOjXdMovzWCtGmLnMbl2yEu13oiMX0S6oY86mpC1+5YdlbTpzOAXULjc3k39NXQLu0o51KgeiI5CfGZu9z1RCklWcmv01OrRqjp6d68o3v3nIiIiIiIugKTHkPV5tSvfrrSFok2Aao2pavyMqv1eNxr5dh0gtPXANnV6Mid1cSpxVqcuvIqu74Tm747ndQhrtmjr7cpQ4e4quE6RNrOca6Lt1K6VxVSxaLV7ljVJumTL7u5bZWjbkiuxVEOZLlejXYs085qyjoq6XeOR4pRqLWADD6bya/TU4lQ01NJ/BgExKSHiIiIiIhKjUmPoWp76rc3+6Qt4rzi+j0eNS/KbdImQKNj6eqArBIgwK5GR18j45pbYlnTo5tD7jSnXyPIqkOcXLdjVx8kpzYxkixdbRDg2F7xFd3aOa7sc0tKUjckibAOkVky5BpLm4SkupBN4LWALJMs6k486SEiIiIiyhsbGQTFkx5D1ZbNRZOqWAvQmXYtIFeHMTHxkJ4vzGHanc4oARp9TdgubXIdh0d9kHAMvVIm5fbq64Ysu2MZdlBTX02PMbeuE6LrM2VZH6QZf1TYznHusRybpZLm3LIE06EIdUOWaYs6HcqxBiRG4qHtNuf6/Oe5FtBUj1Xy3dsoKJ70EBERERHljYuTBtW9GRcREREREXUFJj2GzG5v82hnbTWO9jXSrXhet5gFvu3NtV2WC6BazS02ExCPk93tMtIvBulWCLkZA2BX4J1nW2z93NLPktgmXL3Aqjy3esFUdUMExxyiorXLLtLckhS3CcGbJTgXsVS3pla2k3YMn2u7ZKtL3B5NFCxbbIum+BnxWjw2Jtb0BNW9e05ERERERF2BSY8hq6SnPtT58Wavchxlg4PR1yiTEI9tVc9hlACNvsZomwqUAAGOhgXKObRttAG5IYN2YdQ822K7rtCKbbHVC4TaNVHQN0XQNUQAgEw4Jpm6YUFZ2kaXJIVJcbvK3kZbYtReG9CnTKYLjRq12LZoopB8IwPW9ATFpIeIiIiIiEqNSY8hq6RHuhpbdRdOTJlfrY/yyr+QAAFyChQ6ARp9TdgFUH0SD3n/pKv10j7oEwH1HLnW2+TZFttn/yR2c1eVNToxjrm2XbZrUd2qMi2zbJcts7pKWpIUJsVt8vgPsWX7ZPXcYqqiHMiy1XOOi69atdcGLFvMR8KanqC6d8+JiIiIiKgrMOlJkFX3Nsvx9amK4+q0tkOcMmVyjx92AVTLhUP1NT2uWiabxKMu1X44rgraLXTqs0CoJL2FUcVub46rm6ETHflnz7Y+SJxD/E6KtTsJJh6G2yQnAtLz5bHCpyfhO8qVIhkCcl18VWR5OX7CQUm+extreoJi0kNERERERKXGpMeQVU1PaK433dXZreNYPnU1Q0KqItb66Obw6d4WOgEafY3uMpxVAjQ6ltRhTNuFTp/sSXVO2q5u7s54VjUpdjU9VW2HODE5cTFKdNS1Qfq55ePh6DilrA+Slb1znER4v6OkMIbruURJI1g3NKVxDNchyqOeKP3ubRFqegpX6GSne/eciIiIiIi6ApOewELX51irel1t7jCOT11N4ARo9DW65MYqARp9jU0dkN84Nuvu6BMgeQ6ZVE8kE9fdyXWNoBi1TBKrRCfPdE0eS1sfZFcbBLBzXEi67fJJhuzShXLXDYk81iGSdtsqGdKMlX7Sw5qekJj0EBERERFRqTHpMVRtV1CdcDVMXpXdMU6O6ZDV3H7jCFdKm9okRP6etg5ImwBVWzG6t+nGAXzW9tElQK6OOPLyUuETgW5dI0hOdLSpQ/iudbb1UrpkyK+RU4qd48o+tyR8YmVZdxK6bkhKhoB862206ZBVMgS406EkVavha25Y00NERERERFROTHpy4kpCtF2ctKmKa/yqfFlexZ22aMfS1pfI5GNVhu5tLtr9s0s8tN3bLPcvfALkeo3Ebm59R7QIKYxYR5XgsXVcORa77Ok2SJ47xzV0ypLC+AmbWFnUnfynYnWUM0uHLNOZCXNnKa5LRNHwpIeIiIiIKG81AMJSEqZzdCme9AQmrWjuqvWxTG4sxreWZ92Q9IEvf/c2SX4JkDx352e7PudizVKOdTXqTlTS7wpHtJBihziZ5bGVhN+/FDvH6XVnCuMn/DYVqaOckzIGjbNOj/vf1F140kNERERElDc2Mgiqe/eciIiIiIi6QuGSnhtvvBHXXHMNBgYGcPjhh+OGG27AggULOj739ttvx+mnnz7usd7eXmzfvn3s31mWYeXKlbjllluwadMmvO1tb8NNN92EAw44IOh+SLeyAPKtOnnflmbFaj8sb/Oyuu0t1ZbV+mOiu+2t7bgH2Wpun9ug6tItSlJLZ+VipqNjCY9rF0b1aG+fZwOHfNtiS/JsOd5ZnHbZ5bjNS6Jt1OC6kK1dRDbKLWYFaqPtPLbahT+NbocDFIuTpt7IIOHFScvw93ehkp6vfvWrWL58OVauXInHHnsMhx9+OJYsWYLnnntOfE1fXx+effbZsa/f//73475/9dVX4/rrr8fNN9+Mhx9+GK997WuxZMmScW8MEREREVE3Ksvf34VKer7whS/gzDPPHDt7vPnmm3H//ffjtttuw4UXXtjxNZVKBf39/R2/l2UZrrvuOlx88cV473vfCwC48847MWfOHNx333046aSTOr5uaGgIQ0NDY/8eHByczm5N4tP8oPM4Fltjrxq4c4grRVNf1VJua6otq6Wx5EVLpZH0V7/t9iPG4qR5zp3ewqhSS2wgTltsOU3SjmV5Bdxm/7QNEUZfo5tDlm8yJKUFdlfh00xb9K3FJeGbJdhtq+P9DpwMjc5dsM4FtUqE7m2j40/827W3txe9vb0dX5LK39/TVZikZ3h4GI8++igWL1489li1WsXixYuxdu1a8XVbtmzBG9/4RsybNw/vfe978atf/Wrse+vXr8fAwMC4MWfOnImFCxc6x1y1ahVmzpw59jVv3rxp7h0RERERURzz5s0b97fsqlWrOj4vpb+/p6swSc8LL7yAVquFOXPmjHt8zpw5+M1vftPxNW9605tw22234bDDDsPmzZtx7bXX4qijjsKvfvUr7LXXXhgYGBgbY+KYr36vkxUrVmD58uVj/x4cHMz1xEdeDNBuLEuh53AvjKq7Al4f6vgwmp0vhjiVo2W1bpxRwrEV06fOo7j3r/ipSp41L/pFTuWx4tSdpPi+hh7Hsj7I7nj41ZcUK5nqLPw2WaYtRdpes2QImPTDkX5NT7zubU8//TT6+vrGHpZSnpT+/p6uwpz0+Fi0aBEWLVo09u+jjjoKBx10EP7xH/8RV1xxhfe4rgiQiIiIiChlfX194056LIX6+3u6CnPSs/vuu6NWq2Hjxo3jHt+4caN4z+BEPT09ePOb34wnn3wSAMZet3HjRuy5557jxjziiCNsNtyQttbHJ1HxSYe0qs3wc4hzi8dEdzXWMq0K3c0OCN+9zbUoq9WVbtf+ybVJZU6A9K+REx3t+PIcxUqAYoxVpAVT9XN3awqT4gKv7u5m2tGKkwyNjtX58YnpkFdaFFG7UkE7cPe2dkU3fpn+/i5MTU+j0cD8+fOxZs2ascfa7TbWrFkz7mzSpdVq4Re/+MXYAd5nn33Q398/bszBwUE8/PDDUx6TiIiIiKiMyvT3d2GSHgBYvnw5Tj31VBx55JFYsGABrrvuOmzdunWsm8Qpp5yC17/+9WPFWJdffjne+ta3Yv/998emTZtwzTXX4Pe//z0+8pGPABjtLHHOOefgs5/9LA444ADss88++MxnPoO5c+fihBNOyGs31WIkQGWh33ch8RgSkoUca33izKFLgEbn0I1leQVVu65QM8m1ZPRzy78TdOO4laNDnCy9mp7QawcBQCZdfRe7YqaXeFh2jrPqejb6GvFbgvTSFp81kKxYHFu/eqh42tUq2oFrenzGL8vf34U66TnxxBPx/PPP45JLLsHAwACOOOIIrF69eqwQasOGDaj+2Zv5pz/9CWeeeSYGBgaw6667Yv78+fjJT36Cgw8+eOw5559/PrZu3Yply5Zh06ZNePvb347Vq1djxowZ0fePiIiIiCglZfn7u5JlWcGamKdncHAQM2fOxIXYjF6EKQqz5FrvR1vTI68ub/ca8XHhlN01t5Q6WG2TKznRbq92Dp9jrh3L7/3W1QFJ9SU+n1v5cZv9BuQ0wmxu15VV9Vg22+raLu3cLmb74TW3MIfyIqnVOKOv0f/sa8YZ/Z5uLCkZcqlKdyEo5/ZZg0X7mjJsk+3cPvunfonh3ONf097yMgbe8X9h8+bNwYr4fbz6d+Tz952Gvtc6i2SnP9fWYcw+4fbkjkEMhanpISIiIiIi8lGo29soPO2aP0WrDwq/RpCjg5rXve+TSfUaPvfWx6gnynMtIFnRurTlNbfdMdfXGbnm0HZb9JlbUqTPmnYc/VjaznGjr7GZO80ubSluU/haJjebJMuiZij1dXpatSpatbB5ROjxU9a9e05ERERERF2BSY+hdjVDuzL+ioZ8VT4/rm3SdnzzuVKaZzpUjbAOkTi32Xo8nR+X16QBrNbESTMBkscq1lX5os1tub1Wc1h2dbP63a3fVvH3sBiR5Lnf+pqlinC1Xd9Yq1id42QppkP6bbJLh8IlWaknPe1qhHV6Ao+fMiY9RERERERUakx6ApOTkzTPtGOs+eN3H72NPFOm0OmJlACNzmFzVT7FBAhwdKdLsAYiz7qaOHOXYQ0d11ihEyCfOXRpS9V5tTu/dFRbHyQlQ1J3OEC//oxlzYvVmjh+awTl+XPZWR5rIKW+Tg+FxZMeIiIiIqKcZdUqssCLk4YeP2U86THUrgETL1AUrbtZDDwm41l2Y5PnkL4TNgECLFMg/dVp6RecXQIE5FtPlN7cUt2JvDZMjNTBZ/wYaZIkvVo06f3T/25x0SVWdrVB8tyy7qzDsUhb/lP4Y+iztg+VF096iIiIiIhyxkYGYXVvxkVERERERF2BSU9OpMYAQJpNDiwbHJRloVMroW89Axy3eakXAvVoJRrh9j3t9pbjtjfXWOHnltvYF6ktdp6NGix/z1vOUfwGFbYLpkpSbE2d4jaFb+CgkWXp/X3155j0hMWkh4iIiIiISo1Jj6FOjQwk7iSkOG2utQnQ6Gs6P65tZV2WZEi/H4YpjLp9uH5u/WKq6SVAriuMzQSLzuMsgCrJsy12nvthOU6Mttjaue1SwvBNEezaZWdSSiH8t69b22XbCrc4aVaIxUnD5hFMeoiIiIiIiEqKSY8hTdLjor1XvkgJEGC30KnPIqcppkN22+TR0nmo87ObvRHmLlAC5FIXxipSAiQntvIMrjTXYpv8XpPeAoz5LjrrI8axDf0+eaRMUqt1owVT3crQLjtOYiWb2vZmiS9OmlXC1/RklfT+ZoyFSQ8REREREZUak56cWKYURUqALPkkJD7HPbQ46ZP2yn9+c+sTIHksvfAJUFv5c+yz3/LvCm2ik/finfl1p1N3DJO6UopXrWMkIbqFRgHLbovhkyx9bZA8liy/znFSfZC2Dmf0NemkLf9JN4d7YVT9YqopalWqaFXC5hGhx09Z9+45ERERERF1BSY9hqy6t7nG14yVagJkteYP1/uxIFwda8a4OmaZPqW4novNHPVhx9VN0+Rm6tvkHivF7nSSoq0RpB0r/BpB4u9tZ+1EnmsdBU6ZHPvdFi4zV4Q/HFJcO8gybcllnZ5CdG/jOj2hMOkhIiIiIqJSY9JjyKp7m8Qq8XCvoZPfFYDQCZB7bv1ryizf46FPPJoN3VipdoLTje8zR4opTJpryaS4RpDd+jYxuta5CFf+hcuwdnVGQPhj6xK2Poid4yYr5jo9THpCYdJDRERERESlxqTHULsqX6kKiSnFeDHqpcrO9sqqFcdq4608E48yzJFiAuQzf541PWVZIyjGWNo5JLq7AwBXzU1+75967SBlbRAAZFJdjfC7Xts5DuA6PRayahWZqw2f0Rzdqnv3nIiIiIiIugKTHkPtej5Jj5YrvUix45u21sdvjs6Pa+uDypIMxakRsFMf7rxdzQYToOnNkXc9UYr1UikeW+0cro6AnR/Xrjfk+t0pj6VVnK5ugGV9kP7zUYb6oG5Yp4fC4kkPEREREVHO2MggLJ70GGo1gOaEpKdoB7hIa/74JECh1/zx6RwniZEa2dUyxbhqrWd3DNO8Kp/vHN3ZQY1rBE11rBid1SLMrV6HKNGUyag+SKoNAmzrg4St0r5gktS7t1FYRfubnIiIiIiodNrVKtqBGw2EHj9l3bvnRERERETUFZj0GGrXJkfFlrc7SWLcglWG294Au4VO87z1zFKcxgv5NT+I03q7SLciaefI87Y3n7HybBud3219+luwXMrdFjv87WqO27+kxVeFW67KsGDq6Gt0QrbLTv32tnalgnYlcE1P4PFTxqSHiIiIiIhKjUmPoXZ18tX5ZqPzc+vDhvNGaKusTTzczQSKc5XBqpW1a6zuFT6Fybf1dhnmKFbBe4otubXpsmusPBMuq1bWlmPpx/EhzC2lNs7/vuW52K5uDu2CqaOvEWZQNkWQGiK4lWNxUnZvC4tJDxERERERlRqTHkPNBlCdcOVJSnSkBMj1Gkk7QoJgWfOSZx1Q6IVO3fttN1a52SUCE38eY87NOaY7jvVY2vFj7J+kzAuj+sxR7rbYMmXK5Ei4ylAfZNkuO1VZhO5tGbu3ERERERERlROTHkPtWjYpMWjXPDqdKK9ON3s7P14fUk+t5lPzkmInOG0CZLnfkjw7x6VJf+WYi5MWfY4Ua5ZSPIZW3b985vZR3g5xznpW5QKhKaZMec5h0jku8e5tLVTQCtxdrWXYDbFomPQQEREREVGpMekx1OztVEPQ+UpGfVg+07bq+BZjnReJZRqR4lpAEp+anjzXWSoL8dg2Y8yeYhphNUc5EiC/nz2rDmq6bQJ81ozJLwmxXCModFc3n7Fk4TvEaec2TZmUawcBHrW/2vWJDDrHJb9OT7USvKaH3duIiIiIiIhKikmPoazTOj1CvY3ryo6UAmkToDxrfXzoE4/wCZBltzerNX8s11nSipOcdOaul4qRVGgVLT3RjJ/qHCke8xS3yXKs8F2+ZHl2ddON40OfosV4L4o9R9buUOeTkKxSQRa4pif0+Clj0kNERERERKXGpMdQswFUJhxRKYVxXbVuNnR1QNqr+O2CvetWCdDoWDZXOEKv9zM6R+fH8+zqVrw6MSZAnMM1jkvolCm/bXL/jtSNFaUmS+xuph0/RnLjWEtGXbOk5Zhb2SHOp1bLqj7IqzuqRw1SikZresImMazpISIiIiIiKqmCXfNPW7ORoVKfeFVBf0Yt1dxICZA0h1jrI9QGAXYfiBh1J2XpSGaV6LCrmwYTIM4Rq05MP478s59i8mXX5atIawT5pTZGSZ2YkMSoj3MJPcf0U8XUa3ooLJ70EBERERHlrF2pol0J3LI68Pgp40mPoXatQ/c2ZTrjIiVA0hUnn/V+rGo2YqQOPrUtoTu+ucbR1vvEqOnp1nRNVqQECEizCxbnmN44lmPp91tb+8E1gjSK3yFO+nwAdvVB2tqg0ddM7Rhmpf9vGLnwpIeIiIiIKGdsZBAWT3oMNXsyVHrGX22Q19xxXSWyuc/Vp9ubTzrUcY4IV1O8OryIrynOmj951vTk2TkuXzHSFh9cp2d6c/jU1djNIQudCOSbfNmlKumtEWRbyyTR1RkBcTrEyeLX7ryqaN3bKCye9BARERER5axdqaAdePHQ0OOnrHurmYiIiIiIqCsw6THUbACVnomP6m49A+TbnZoNq4hYHkfb5lp8fq+8VVJDBivuRga618S47S2G0E0RLBctrTbtxoqjSM0PUizoz3OONG+t048l8bktTNuiWRonv0YNlq3ILRdGlVm1xY5xK6X+bxd1wwKPW8Gn+jnMzG7zC6NdraJVDdy9LfD4KevePSciIiIioq7ApMdQqzG5kYHfVT5psVHpapDQLEFMW3zm7vxsnyv8lqmAlt1CoHYJUOgGB6Nj6V6TZ8OC8iyyygSojHPIP/s244+yWWTVLxEo0rGNkaLZ7Xf45Gb6LZ2nMpYdw/2bYsqUJb4yKWt6wmLSQ0REREREpcakx1CzB8Ck2he7e6q1V6LEltWOd71p1BrU1eJaSqBC1/q4WCUFznuOlSmQVQI0Olbnx60SIJ+5Lbk+06HZXeFnAlTkOewSIHmOfGuZ8txvif6/V1aJh+XCqDKr1uXyWDK7ttja+iC/Yzu1/csSr8dl0hMWkx4iIiIiIiq1wp303Hjjjdh7770xY8YMLFy4EI888oj43FtuuQXveMc7sOuuu2LXXXfF4sWLJz3/tNNOQ6VSGfe1dOlSr21r9mSTvxoQvjLHl/Y1Vs8fvWLe8auWdfxyjSXOUev81ezt/CU9P88vH9IxzFO11flL+3zXl9U2Ob+awpfPWIH3ryzsjmHF8RV6Do+x2sKXcz+s9k03ltd71650/vJ6/5T7LhxbeT88jq20fzH2W71/Rvvg2A9xbvXxsDzmnb+cv4+UxzZVWbUa5ctHyn9/T1WhTnq++tWvYvny5Vi5ciUee+wxHH744ViyZAmee+65js9/6KGH8Dd/8zf4wQ9+gLVr12LevHk45phj8Mwzz4x73tKlS/Hss8+Off3Lv/xLjN0hIiIiIkpaWf7+rmRZlu+lZoWFCxfiLW95C770pS8BANrtNubNm4dPfOITuPDCC3f4+larhV133RVf+tKXcMoppwAYPdPctGkT7rvvPu/tGhwcxMyZMzH/b59DvdE37ntSXY1rnZ76SOfHG6/oOqvJc4tTq18j1eG49k+6uiTvhzCOsJ6L6+qVOJbyir30fO04qdKmWZZd/GKMJdUA+WyTem714/Kv6ND7595v/T3/+jls5o6xf+LjHpcW7fZP/593/f7ZfA5GX2P0mXIcc7s5wu+3PLc0jsfcwn6Iz3f9zBiOZTH+6BzjX5O9MojBv30jNm/ejL6+PuFV8b36d+R3fvs5vHaXGUHn2vrydhy379+rjkGqf39rFSbpGR4exqOPPorFixePPVatVrF48WKsXbt2SmNs27YNIyMj2G233cY9/tBDD2GPPfbAm970JnzsYx/Diy++6BxnaGgIg4OD476IiIiIiIpg4t+xQ0Odr2Kn9Pf3dBWme9sLL7yAVquFOXPmjHt8zpw5+M1vfjOlMS644ALMnTt33Bu3dOlS/NVf/RX22WcfPPXUU7joootw7LHHYu3atajVOl+GWLVqFS677LJJj7dU3dtctJ17rJ7v+xrNOI6ucsJVn+akY/of4yi3yDWHRJvcuFcC142VJ2lbfdbvsVrzJ9XOceFZrmxvSbmyven7V/xOcK40Qq5fsFnXxN1lUjlFjmvlyOve2M0Rfhx5LMsOcdo1glLsECevZzT1DnHs3vaf3dvmzZs37vGVK1fi0ksvnfT8lP7+nq7CnPRM15VXXol77rkHDz30EGbM+M/o8KSTThr7/4ceeigOO+ww7LfffnjooYdw9NFHdxxrxYoVWL58+di/BwcHJ314iIiIiIhS9PTTT4+7va23V1zRflos//6ersKc9Oy+++6o1WrYuHHjuMc3btyI/v5+52uvvfZaXHnllfj+97+Pww47zPncfffdF7vvvjuefPJJ8aD39vZ2/HA0ezJkPROvNuR5FSzGatw+VyR0Y0l1OD4JkFAG5Kxz0oiReORJmwD5vkYzjot6DukDkqxyr/mj/4wUPwGKM7fHyvZmCZBPimCXKsopidU6RN25RhDgcYeAmNxY/n00YVscaVEK2oiQ9PzHserr65tSTU9Kf39PV2FqehqNBubPn481a9aMPdZut7FmzRosWrRIfN3VV1+NK664AqtXr8aRRx65w3n+8Ic/4MUXX8See+5pst1EREREREVUpr+/C5P0AMDy5ctx6qmn4sgjj8SCBQtw3XXXYevWrTj99NMBAKeccgpe//rXY9WqVQCAq666Cpdccgnuvvtu7L333hgYGAAA7Lzzzth5552xZcsWXHbZZXjf+96H/v5+PPXUUzj//POx//77Y8mSJertazYyZI2pXqGwvE8/z5qe9BIgrw42EdIWyzqZ1ORd02N1rMpTN1TuBEgif9aKlQDpa1XiXzEPMUfoBMiP5fGwGsvuv69SbZlPkqWdWxY+ZSKd1P/+nqpCnfSceOKJeP7553HJJZdgYGAARxxxBFavXj1WXLVhwwZU/2zRpZtuugnDw8N4//vfP26cV4u1arUafv7zn+OOO+7Apk2bMHfuXBxzzDG44oorgt3bSEREREQ0UbtSRbsS9iYsn/HL8vd3odbpSdWr/dX3veRZ1GZMcZ0eYS0e92s6Py6v32M3d+MV3fPzXAvIPXfnx8W1g4S5fdbpsVrbJ81kQVakNX+81nMxXPNHPXfgtYBi7HeUtXIirBkTZf0lo/VqoswdZf88PrfaNXFyXH9JHCfBNYJ85g+9rk+nOdqvDOLFv5uX7Do99/3uKry2L/A6PYPbccLeFyR3DGIoVNJDRERERFRG7QoitKwOOnzSCtPIgIiIiIiIyAeTHkOtji2rJeEXHJSj4LwbGdgUZ0q3eUmtrF0smyJYKUvjA6v9sGxkkOIxtPys5bvApKXAC4Tm2rjC7r8Bdo0PDOd2LgJptX+WyzJI7G7/0jbUyLPVc4ptsb0a5kw8VonHHO1qBa1q4KQn8PgpY9JDRERERESlxqTH0HBvhuqMCUVzUuGi40xbWlQ0RuqgnyO/BVCrzc7PlxocAPL+adMhqcFBDKkmOlqWSVaMttiSFN8Pu4VfwyfSfvJrVWy3eKd+7vAJUPi5AbsW4vokRJ6jHO3O81sYFZA/V3m2xS5ay+pUu7eVRffuORERERERdQUmPYaaPRmqk2p68rtX3u8KR/grTlZ1Q35X4GwWOm0KbeQtEyDLxdZSTCMkljU9domHTD1HUz9HaPnWE1liAjQVzp+lKAugFmcOywTIqvbK77MWekFYF5uFUd2f2ym+H4n/tzCrVJAF7t4WevyUMekhIiIiIqJSY9JjaKS3jUrv+Es2Uu2Os6ZHXFBO97gPfce38N1iUuwcJyZDhj9Rlt3NJEVKgCzl2RkvRvoUh/6e/07iJF9MgMIxTDzU6YK+jsNqDplhPZFRAgRYJjc+72v4z2dpurehgrZXmqabo1sx6SEiIiIiolJj0mOoWc9QmVDTI3Zvq8nnm6ETHdc6AvKVos4v8tkmuzQpv85xPrQ/bHnWo6SYLlh2bytSiuaTHhaprqYsa+Vo5/C7Km8zt20Ko51bnj90AmQ5h89aMuETufBdz3w648lyWCPIdJ0he+1KBe3ANTehx08Zkx4iIiIiIio1Jj2GhjvU9NSb0hm163KDzbmozxpB8tzS9krPz7OjT/jOcTESIKnUQaon8pFnbYul0IlO0VK0NOuG7K5ya9Mvv/3L76p8+DqgGCmMz/yhEyB5Dj1dAgTYrYnj9ftI7JRmWC8lpEApdohLFdfpCat795yIiIiIiLoCkx5Dw71ApXdiTU/n5zrraoQbV7Wd4OTH5bmlRKdd0yVW7jRJGEl9b79dTY/+ypl27SDHmj+Nzo9LP5ztCFfly5IAacWo6UkxhSl7XY3t/qXXCU6SZgpjN7ef0KmKqzOrTeKRYgLkZpMAubvyTXF7WdPDmh4iIiIiIqKyYtJjqNaYXNMz4rVOj3R1R/t4+I5r0uMN065uWuG7y/iN33kscc0fKRnq7fx4fcgxtRG/K3BhtmUq8kxbrK6Ap3ps4yRW+a0/o9+//FKKFFMY289tjDWQ8ptDZllTmmItWg5rBDnuxqDy40kPEREREVHOWpUKWoFvPws9fsp40mOoXm+jUh+f9FSF1KYp1sgAw1VdQiPdk6utDXJ9rzEkbZNuXZ/ROTo/3tguvsRMnDSps2rL5qqdlAxJCRAQPgWyXEMnBsvaHas5LNMkSVVqCRhB8epqdPJcjT7FFCbPtYBs10CKUFejXhPH5301SgmdNTE2xyroGkElqT8lPzzpISIiIiLKGRsZhMVGBkREREREVGpMegw1Gm1UGuOz37YQx0q3vQFAUzgV1TZF0DZE2NH3NHO4+kLKr7FalFX+XkOcO3yRpyzsbW+A7W1bWkVqf23ZqMFqYVQXy6YIFuNbS7OZgI7+tjcg/O+j/G49c80fY+7Qraktb62zuu3NOZbp4qTSd2waFlgujJqqNqpoB84jQo+fsu7dcyIiIiIi6gpMegz19LRRnZD0NIXYpuq4+iD0MVA3RdA2RAD0TRHkBgfyHA1pjppuYVTp8YbQqtstz2JjiWW70s60DQ5itG5OMQHykWcjA6tj1fb4L0SKbbSLlAC55LkgbIrtr9NsTR2+nbRloX+ePzN5LIyaOY9RAioVZKFrbljTQ0REREREVE5Megw1GpOTHim1aTvaPmqTnnpdSIDqna+KNJuOeqJ658mlWhjp6lhju6tlta4ttp6rp6Z2DiZAf67ZEJ7vqCcqQ6Lj05JbO5bllf88a3dSfF/zTVV8xFgoUzc3E6Dpz1Gktub6ceyOlT4BmvrcWYL/fflz7N4WFpMeIiIiIiIqNSY9hho9bVR7wiU9deHdkuuG7DrHDUn1REJqJF2pAYD6iHRFrfPztV3o2o6aHrFuSD1HjCslwvsnXqlyXbHTjaWt5ci781jROr5ZjO+aw6xLVIQEyCX8+6q/ciyJs/CrvmNYJ3mmMH7zpzi3RJ/OROmsplzoV+p65j5+6SWU2p+NvLVRQdvwrg1pjm7FpIeIiIiIiEqNSY+hnp42apOSHuGKjKODiDYdsqoBAoBmU6gDEl4zPNx5ckdJj7o+qC12oRMelxc