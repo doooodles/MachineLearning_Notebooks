{
 "cells": [
  {
   "cell_type": "markdown",
   "metadata": {
    "id": "gaMsY6EQuFJB"
   },
   "source": [
    "# Physics informed neural networks\n",
    "\n",
    "\n",
    "## Resources \n",
    "- [Physics Informed Neural Networks](https://maziarraissi.github.io/PINNs/)\n",
    "- [BFGS vs Adam](https://stats.stackexchange.com/questions/315626/the-reason-of-superiority-of-limited-memory-bfgs-over-adam-solver)\n",
    "- [BFGS](https://machinelearningmastery.com/bfgs-optimization-in-python/)\n",
    "- [Another TF2 PINN implementation](https://github.com/pierremtb/PINNs-TF2.0)\n",
    "- [MLTP 2020 Presentation](https://mltp2020.com/Presentations/Karniadakis_NSF_MLTP2020.pdf)\n",
    "- [CIS522: Deep learning](https://www.seas.upenn.edu/~cis522/slides/CIS522_Lecture11T.pdf)\n",
    "\n"
   ]
  },
  {
   "cell_type": "markdown",
   "metadata": {},
   "source": [
    "# Imports and functions"
   ]
  },
  {
   "cell_type": "code",
   "execution_count": 1,
   "metadata": {
    "colab": {
     "base_uri": "https://localhost:8080/"
    },
    "id": "KX1CL_BqgwYI",
    "outputId": "733e1166-2e58-4a90-d75c-2f28e9392e2a"
   },
   "outputs": [],
   "source": [
    "# !git clone https://github.com/maziarraissi/PINNs.git"
   ]
  },
  {
   "cell_type": "code",
   "execution_count": 2,
   "metadata": {
    "colab": {
     "base_uri": "https://localhost:8080/"
    },
    "id": "XcuWkQkHZD69",
    "outputId": "ef5f97d4-f5ea-4101-a069-bab37383fc8c"
   },
   "outputs": [],
   "source": [
    "# !pip install scipy==1.7\n",
    "# !pip install pyDOE"
   ]
  },
  {
   "cell_type": "code",
   "execution_count": 3,
   "metadata": {
    "id": "lhln2XmcX8Y8"
   },
   "outputs": [],
   "source": [
    "import tensorflow as tf\n",
    "from tensorflow.keras import layers\n",
    "import tensorflow_probability as tfp\n",
    "import scipy\n",
    "from scipy.io import loadmat\n",
    "import matplotlib.pyplot as plt\n",
    "import numpy as np\n",
    "from pyDOE import lhs\n"
   ]
  },
  {
   "cell_type": "code",
   "execution_count": 4,
   "metadata": {},
   "outputs": [],
   "source": [
    "import matplotlib.gridspec as gridspec\n",
    "from mpl_toolkits.axes_grid1 import make_axes_locatable\n",
    "from scipy.interpolate import griddata\n",
    "\n",
    "def plot_results(U_pred, X_u_train, truth, x, t):\n",
    "    # copied this figure directly from the paper\n",
    "    plt.figure(figsize=(15,10))   \n",
    "    gs0 = gridspec.GridSpec(1, 2)\n",
    "    gs0.update(top=1-0.06, bottom=1-1/3, left=0.15, right=0.85, wspace=0)\n",
    "    ax = plt.subplot(gs0[:, :])\n",
    "\n",
    "    h = ax.imshow(U_pred.T, interpolation='nearest', cmap='rainbow', \n",
    "                    extent=[t.min(), t.max(), x.min(), x.max()], \n",
    "                    origin='lower', aspect='auto')\n",
    "    divider = make_axes_locatable(ax)\n",
    "    cax = divider.append_axes(\"right\", size=\"5%\", pad=0.05)\n",
    "    plt.colorbar(h, cax=cax)\n",
    "\n",
    "    ax.plot(X_u_train[:,1], X_u_train[:,0], 'kx', label = 'Data (%d points)' % (u_train.shape[0]), markersize = 4, clip_on = False)\n",
    "\n",
    "    line = np.linspace(x.min(), x.max(), 2)[:,None]\n",
    "    ax.plot(t[25]*np.ones((2,1)), line, 'w-', linewidth = 1)\n",
    "    ax.plot(t[50]*np.ones((2,1)), line, 'w-', linewidth = 1)\n",
    "    ax.plot(t[75]*np.ones((2,1)), line, 'w-', linewidth = 1)    \n",
    "\n",
    "    ax.set_xlabel('$t$')\n",
    "    ax.set_ylabel('$x$')\n",
    "    ax.legend(frameon=False, loc = 'upper right')\n",
    "    ax.set_title('$u(t,x)$', fontsize = 10)\n",
    "\n",
    "    gs1 = gridspec.GridSpec(1, 3)\n",
    "    gs1.update(top=1-1/3, bottom=0, left=0.1, right=0.9, wspace=0.5)\n",
    "\n",
    "    ax = plt.subplot(gs1[0, 0])\n",
    "    ax.plot(x,truth[25,:], 'b-', linewidth = 2, label = 'truth')       \n",
    "    ax.plot(x,U_pred[25,:], 'r--', linewidth = 2, label = 'Prediction')\n",
    "    ax.set_xlabel('$x$')\n",
    "    ax.set_ylabel('$u(t,x)$')    \n",
    "    ax.set_title('$t = 0.25$', fontsize = 10)\n",
    "    ax.axis('square')\n",
    "    ax.set_xlim([-1.1,1.1])\n",
    "    ax.set_ylim([-1.1,1.1])\n",
    "\n",
    "    ax = plt.subplot(gs1[0, 1])\n",
    "    ax.plot(x,truth[50,:], 'b-', linewidth = 2, label = 'truth')       \n",
    "    ax.plot(x,U_pred[50,:], 'r--', linewidth = 2, label = 'Prediction')\n",
    "    ax.set_xlabel('$x$')\n",
    "    ax.set_ylabel('$u(t,x)$')\n",
    "    ax.axis('square')\n",
    "    ax.set_xlim([-1.1,1.1])\n",
    "    ax.set_ylim([-1.1,1.1])\n",
    "    ax.set_title('$t = 0.50$', fontsize = 10)\n",
    "    ax.legend(loc='upper center', bbox_to_anchor=(0.5, -0.35), ncol=5, frameon=False)\n",
    "\n",
    "    ax = plt.subplot(gs1[0, 2])\n",
    "    ax.plot(x,truth[75,:], 'b-', linewidth = 2, label = 'truth')       \n",
    "    ax.plot(x,U_pred[75,:], 'r--', linewidth = 2, label = 'Prediction')\n",
    "    ax.set_xlabel('$x$')\n",
    "    ax.set_ylabel('$u(t,x)$')\n",
    "    ax.axis('square')\n",
    "    ax.set_xlim([-1.1,1.1])\n",
    "    ax.set_ylim([-1.1,1.1])    \n",
    "    ax.set_title('$t = 0.75$', fontsize = 10)\n",
    "    plt.show();"
   ]
  },
  {
   "cell_type": "markdown",
   "metadata": {
    "id": "mWo3_LIafh1a"
   },
   "source": [
    "# Data"
   ]
  },
  {
   "cell_type": "code",
   "execution_count": 5,
   "metadata": {
    "colab": {
     "base_uri": "https://localhost:8080/"
    },
    "id": "FJEkJyezYbTp",
    "outputId": "d6e37261-3e18-407d-b936-4dd9f55b6bd3"
   },
   "outputs": [
    {
     "data": {
      "text/plain": [
       "dict_keys(['__header__', '__version__', '__globals__', 'x', 't', 'usol'])"
      ]
     },
     "execution_count": 5,
     "metadata": {},
     "output_type": "execute_result"
    }
   ],
   "source": [
    "# data = loadmat('/content/PINNs/appendix/Data/burgers_shock.mat')\n",
    "data = loadmat('./burgers_shock.mat')\n",
    "data.keys()"
   ]
  },
  {
   "cell_type": "code",
   "execution_count": 6,
   "metadata": {
    "colab": {
     "base_uri": "https://localhost:8080/"
    },
    "id": "IYcuMz_ZZBWp",
    "outputId": "aec6c372-a15b-490e-da68-7c1cfdc52025"
   },
   "outputs": [
    {
     "data": {
      "text/plain": [
       "((256, 1), (100, 1), (256, 100))"
      ]
     },
     "execution_count": 6,
     "metadata": {},
     "output_type": "execute_result"
    }
   ],
   "source": [
    "data['x'].shape, data['t'].shape, data['usol'].shape"
   ]
  },
  {
   "cell_type": "code",
   "execution_count": 7,
   "metadata": {
    "colab": {
     "base_uri": "https://localhost:8080/",
     "height": 446
    },
    "id": "XdR-rrLlcjNQ",
    "outputId": "558a3ed9-4d1d-4151-9509-39a6886b24b2"
   },
   "outputs": [
    {
     "data": {
      "image/png": "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