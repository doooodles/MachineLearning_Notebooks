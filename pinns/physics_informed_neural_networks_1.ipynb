{
 "cells": [
  {
   "cell_type": "markdown",
   "metadata": {
    "id": "gaMsY6EQuFJB"
   },
   "source": [
    "# Physics informed neural networks\n",
    "\n",
    "\n",
    "## Resources \n",
    "- [Physics Informed Neural Networks](https://maziarraissi.github.io/PINNs/)\n",
    "- [BFGS vs Adam](https://stats.stackexchange.com/questions/315626/the-reason-of-superiority-of-limited-memory-bfgs-over-adam-solver)\n",
    "- [BFGS](https://machinelearningmastery.com/bfgs-optimization-in-python/)\n",
    "- [Another TF2 PINN implementation](https://github.com/pierremtb/PINNs-TF2.0)\n",
    "- [MLTP 2020 Presentation](https://mltp2020.com/Presentations/Karniadakis_NSF_MLTP2020.pdf)\n",
    "- [CIS522: Deep learning](https://www.seas.upenn.edu/~cis522/slides/CIS522_Lecture11T.pdf)\n",
    "\n"
   ]
  },
  {
   "cell_type": "markdown",
   "metadata": {},
   "source": [
    "# Imports and functions"
   ]
  },
  {
   "cell_type": "code",
   "execution_count": 1,
   "metadata": {
    "colab": {
     "base_uri": "https://localhost:8080/"
    },
    "id": "KX1CL_BqgwYI",
    "outputId": "733e1166-2e58-4a90-d75c-2f28e9392e2a"
   },
   "outputs": [],
   "source": [
    "# !git clone https://github.com/maziarraissi/PINNs.git"
   ]
  },
  {
   "cell_type": "code",
   "execution_count": 2,
   "metadata": {
    "colab": {
     "base_uri": "https://localhost:8080/"
    },
    "id": "XcuWkQkHZD69",
    "outputId": "ef5f97d4-f5ea-4101-a069-bab37383fc8c"
   },
   "outputs": [],
   "source": [
    "# !pip install scipy==1.7\n",
    "# !pip install pyDOE"
   ]
  },
  {
   "cell_type": "code",
   "execution_count": 3,
   "metadata": {
    "id": "lhln2XmcX8Y8"
   },
   "outputs": [],
   "source": [
    "import tensorflow as tf\n",
    "from tensorflow.keras import layers\n",
    "import tensorflow_probability as tfp\n",
    "import scipy\n",
    "from scipy.io import loadmat\n",
    "import matplotlib.pyplot as plt\n",
    "import numpy as np\n",
    "from pyDOE import lhs\n"
   ]
  },
  {
   "cell_type": "code",
   "execution_count": 4,
   "metadata": {},
   "outputs": [],
   "source": [
    "import matplotlib.gridspec as gridspec\n",
    "from mpl_toolkits.axes_grid1 import make_axes_locatable\n",
    "from scipy.interpolate import griddata\n",
    "\n",
    "def plot_results(U_pred, X_u_train, truth, x, t):\n",
    "    # copied this figure directly from the paper\n",
    "    plt.figure(figsize=(15,10))   \n",
    "    gs0 = gridspec.GridSpec(1, 2)\n",
    "    gs0.update(top=1-0.06, bottom=1-1/3, left=0.15, right=0.85, wspace=0)\n",
    "    ax = plt.subplot(gs0[:, :])\n",
    "\n",
    "    h = ax.imshow(U_pred.T, interpolation='nearest', cmap='rainbow', \n",
    "                    extent=[t.min(), t.max(), x.min(), x.