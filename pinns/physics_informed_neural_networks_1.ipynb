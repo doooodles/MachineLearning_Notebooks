{
 "cells": [
  {
   "cell_type": "markdown",
   "metadata": {
    "id": "gaMsY6EQuFJB"
   },
   "source": [
    "# Physics informed neural networks\n",
    "\n",
    "\n",
    "## Resources \n",
    "- [Physics Informed Neural Networks](https://maziarraissi.github.io/PINNs/)\n",
    "- [BFGS vs Adam](https://stats.stackexchange.com/questions/315626/the-reason-of-superiority-of-limited-memory-bfgs-over-adam-solver)\n",
    "- [BFGS](https://machinelearningmastery.com/bfgs-optimization-in-python/)\n",
    "- [Another TF2 PINN implementation](https://github.com/pierremtb/PINNs-TF2.0)\n",
    "- [MLTP 2020 Presentation](https://mltp2020.com/Presentations/Karniadakis_NSF_MLTP2020.pdf)\n",
    "- [CIS522: Deep learning](https://www.seas.upenn.edu/~cis522/slides/CIS522_Lecture11T.pdf)\n",
    "\n"
   ]
  },
  {
   "cell_type": "markdown",
   "metadata": {},
   "source": [
    "# Imports and functions"
   ]
  },
  {
   "cell_type": "code",
   "execution_count": 1,
   "metadata": {
    "colab": {
     "base_uri": "https://localhost:8080/"
    },
    "id": "KX1CL_BqgwYI",
    "outputId": "733e1166-2e58-4a90-d75c-2f28e9392e2a"
   },
   "outputs": [],
   "source": [
    "# !git clone https://github.com/maziarraissi/PINNs.git"
   ]
  },
  {
   "cell_type": "code",
   "execution_count": 2,
   "metadata": {
    "colab": {
     "base_uri": "https://localhost:8080/"
    },
    "id": "XcuWkQkHZD69",
    "outputId": "ef5f97d4-f5ea-4101-a069-bab37383fc8c"
   },
   "outputs": [],
   "source": [
    "# !pip install scipy==1.7\n",
    "# !pip install pyDOE"
   ]
  },
  {
   "cell_type": "code",
   "execution_count": 3,
   "metadata": {
    "id": "lhln2XmcX8Y8"
   },
   "outputs": [],
   "source": [
    "import tensorflow as tf\n",
    "from tensorflow.keras import layers\n",
    "import tensorflow_probability as tfp\n",
    "import scipy\n",
    "from scipy.io import loadmat\n",
    "import matplotlib.pyplot as plt\n",
    "import numpy as np\n",
    "from pyDOE import lhs\n"
   ]
  },
  {
   "cell_type": "code",
   "execution_count": 4,
   "metadata": {},
   "outputs": [],
   "source": [
    "import matplotlib.gridspec as gridspec\n",
    "from mpl_toolkits.axes_grid1 import make_axes_locatable\n",
    "from scipy.interpolate import griddata\n",
    "\n",
    "def plot_results(U_pred, X_u_train, truth, x, t):\n",
    "    # copied this figure directly from the paper\n",
    "    plt.figure(figsize=(15,10))   \n",
    "    gs0 = gridspec.GridSpec(1, 2)\n",
    "    gs0.update(top=1-0.06, bottom=1-1/3, left=0.15, right=0.85, wspace=0)\n",
    "    ax = plt.subplot(gs0[:, :])\n",
    "\n",
    "    h = ax.imshow(U_pred.T, interpolation='nearest', cmap='rainbow', \n",
    "                    extent=[t.min(), t.max(), x.min(), x.max()], \n",
    "                    origin='lower', aspect='auto')\n",
    "    divider = make_axes_locatable(ax)\n",
    "    cax = divider.append_axes(\"right\", size=\"5%\", pad=0.05)\n",
    "    plt.colorbar(h, cax=cax)\n",
    "\n",
    "    ax.plot(X_u_train[:,1], X_u_train[:,0], 'kx', label = 'Data (%d points)' % (u_train.shape[0]), markersize = 4, clip_on = False)\n",
    "\n",
    "    line = np.linspace(x.min(), x.max(), 2)[:,None]\n",
    "    ax.plot(t[25]*np.ones((2,1)), line, 'w-', linewidth = 1)\n",
    "    ax.plot(t[50]*np.ones((2,1)), line, 'w-', linewidth = 1)\n",
    "    ax.plot(t[75]*np.ones((2,1)), line, 'w-', linewidth = 1)    \n",
    "\n",
    "    ax.set_xlabel('$t$')\n",
    "    ax.set_ylabel('$x$')\n",
    "    ax.legend(frameon=False, loc = 'upper right')\n",
    "    ax.set_title('$u(t,x)$', fontsize = 10)\n",
    "\n",
    "    gs1 = gridspec.GridSpec(1, 3)\n",
    "    gs1.update(top=1-1/3, bottom=0, left=0.1, right=0.9, wspace=0.5)\n",
    "\n",
    "    ax = plt.subplot(gs1[0, 0])\n",
    "    ax.plot(x,truth[25,:], 'b-', linewidth = 2, label = 'truth')       \n",
    "    ax.plot(x,U_pred[25,:], 'r--', linewidth = 2, label = 'Prediction')\n",
    "    ax.set_xlabel('$x$')\n",
    "    ax.set_ylabel('$u(t,x)$')    \n",
    "    ax.set_title('$t = 0.25$', fontsize = 10)\n",
    "    ax.axis('square')\n",
    "    ax.set_xlim([-1.1,1.1])\n",
    "    ax.set_ylim([-1.1,1.1])\n",
    "\n",
    "    ax = plt.subplot(gs1[0, 1])\n",
    "    ax.plot(x,truth[50,:], 'b-', linewidth = 2, label = 'truth')       \n",
    "    ax.plot(x,U_pred[50,:], 'r--', linewidth = 2, label = 'Prediction')\n",
    "    ax.set_xlabel('$x$')\n",
    "    ax.set_ylabel('$u(t,x)$')\n",
    "    ax.axis('square')\n",
    "    ax.set_xlim([-1.1,1.1])\n",
    "    ax.set_ylim([-1.1,1.1])\n",
    "    ax.set_title('$t = 0.50$', fontsize = 10)\n",
    "    ax.legend(loc='upper center', bbox_to_anchor=(0.5, -0.35), ncol=5, frameon=False)\n",
    "\n",
    "    ax = plt.subplot(gs1[0, 2])\n",
    "    ax.plot(x,truth[75,:], 'b-', linewidth = 2, label = 'truth')       \n",
    "    ax.plot(x,U_pred[75,:], 'r--', linewidth = 2, label = 'Prediction')\n",
    "    ax.set_xlabel('$x$')\n",
    "    ax.set_ylabel('$u(t,x)$')\n",
    "    ax.axis('square')\n",
    "    ax.set_xlim([-1.1,1.1])\n",
    "    ax.set_ylim([-1.1,1.1])    \n",
    "    ax.set_title('$t = 0.75$', fontsize = 10)\n",
    "    plt.show();"
   ]
  },
  {
   "cell_type": "markdown",
   "metadata": {
    "id": "mWo3_LIafh1a"
   },
   "source": [
    "# Data"
   ]
  },
  {
   "cell_type": "code",
   "execution_count": 5,
   "metadata": {
    "colab": {
     "base_uri": "https://localhost:8080/"
    },
    "id": "FJEkJyezYbTp",
    "outputId": "d6e37261-3e18-407d-b936-4dd9f55b6bd3"
   },
   "outputs": [
    {
     "data": {
      "text/plain": [
       "dict_keys(['__header__', '__version__', '__globals__', 'x', 't', 'usol'])"
      ]
     },
     "execution_count": 5,
     "metadata": {},
     "output_type": "execute_result"
    }
   ],
   "source": [
    "# data = loadmat('/content/PINNs/appendix/Data/burgers_shock.mat')\n",
    "data = loadmat('./burgers_shock.mat')\n",
    "data.keys()"
   ]
  },
  {
   "cell_type": "code",
   "execution_count": 6,
   "metadata": {
    "colab": {
     "base_uri": "https://localhost:8080/"
    },
    "id": "IYcuMz_ZZBWp",
    "outputId": "aec6c372-a15b-490e-da68-7c1cfdc52025"
   },
   "outputs": [
    {
     "data": {
      "text/plain": [
       "((256, 1), (100, 1), (256, 100))"
      ]
     },
     "execution_count": 6,
     "metadata": {},
     "output_type": "execute_result"
    }
   ],
   "source": [
    "data['x'].shape, data['t'].shape, data['usol'].shape"
   ]
  },
  {
   "cell_type": "code",
   "execution_count": 7,
   "metadata": {
    "colab": {
     "base_uri": "https://localhost:8080/",
     "height": 446
    },
    "id": "XdR-rrLlcjNQ",
    "outputId": "558a3ed9-4d1d-4151-9509-39a6886b24b2"
   },
   "outputs": [
    {
     "data": {
      "image/png": "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