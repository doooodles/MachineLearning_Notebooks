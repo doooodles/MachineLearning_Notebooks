{
 "cells": [
  {
   "cell_type": "markdown",
   "metadata": {
    "id": "gaMsY6EQuFJB"
   },
   "source": [
    "# Physics informed neural networks\n",
    "\n",
    "\n",
    "## Resources \n",
    "- [Physics Informed Neural Networks](https://maziarraissi.github.io/PINNs/)\n",
    "- [BFGS vs Adam](https://stats.stackexchange.com/questions/315626/the-reason-of-superiority-of-limited-memory-bfgs-over-adam-solver)\n",
    "- [BFGS](https://machinelearningmastery.com/bfgs-optimization-in-python/)\n",
    "- [Another TF2 PINN implementation](https://github.com/pierremtb/PINNs-TF2.0)\n",
    "- [MLTP 2020 Presentation](https://mltp2020.com/Presentations/Karniadakis_NSF_MLTP2020.pdf)\n",
    "- [CIS522: Deep learning](https://www.seas.upenn.edu/~cis522/slides/CIS522_Lecture11T.pdf)\n",
    "\n"
   ]
  },
  {
   "cell_type": "markdown",
   "metadata": {},
   "source": [
    "# Imports and functions"
   ]
  },
  {
   "cell_type": "code",
   "execution_count": 1,
   "metadata": {
    "colab": {
     "base_uri": "https://localhost:8080/"
    },
    "id": "KX1CL_BqgwYI",
    "outputId": "733e1166-2e58-4a90-d75c-2f28e9392e2a"
   },
   "outputs": [],
   "source": [
    "# !git clone https://github.com/maziarraissi/PINNs.git"
   ]
  },
  {
   "cell_type": "code",
   "execution_count": 2,
   "metadata": {
    "colab": {
     "base_uri": "https://localhost:8080/"
    },
    "id": "XcuWkQkHZD69",
    "outputId": "ef5f97d4-f5ea-4101-a069-bab37383fc8c"
   },
   "outputs": [],
   "source": [
    "# !pip install scipy==1.7\n",
    "# !pip install pyDOE"
   ]
  },
  {
   "cell_type": "code",
   "execution_count": 3,
   "metadata": {
    "id": "lhln2XmcX8Y8"
   },
   "outputs": [],
   "source": [
    "import tensorflow as tf\n",
    "from tensorflow.keras import layers\n",
    "import tensorflow_probability as tfp\n",
    "import scipy\n",
    "from scipy.io import loadmat\n",
    "import matplotlib.pyplot as plt\n",
    "import numpy as np\n",
    "from pyDOE import lhs\n"
   ]
  },
  {
   "cell_type": "code",
   "execution_count": 4,
   "metadata": {},
   "outputs": [],
   "source": [
    "import matplotlib.gridspec as gridspec\n",
    "from mpl_toolkits.axes_grid1 import make_axes_locatable\n",
    "from scipy.interpolate import griddata\n",
    "\n",
    "def plot_results(U_pred, X_u_train, truth, x, t):\n",
    "    # copied this figure directly from the paper\n",
    "    plt.figure(figsize=(15,10))   \n",
    "    gs0 = gridspec.GridSpec(1, 2)\n",
    "    gs0.update(top=1-0.06, bottom=1-1/3, left=0.15, right=0.85, wspace=0)\n",
    "    ax = plt.subplot(gs0[:, :])\n",
    "\n",
    "    h = ax.imshow(U_pred.T, interpolation='nearest', cmap='rainbow', \n",
    "                    extent=[t.min(), t.max(), x.min(), x.max()], \n",
    "                    origin='lower', aspect='auto')\n",
    "    divider = make_axes_locatable(ax)\n",
    "    cax = divider.append_axes(\"right\", size=\"5%\", pad=0.05)\n",
    "    plt.colorbar(h, cax=cax)\n",
    "\n",
    "    ax.plot(X_u_train[:,1], X_u_train[:,0], 'kx', label = 'Data (%d points)' % (u_train.shape[0]), markersize = 4, clip_on = False)\n",
    "\n",
    "    line = np.linspace(x.min(), x.max(), 2)[:,None]\n",
    "    ax.plot(t[25]*np.ones((2,1)), line, 'w-', linewidth = 1)\n",
    "    ax.plot(t[50]*np.ones((2,1)), line, 'w-', linewidth = 1)\n",
    "    ax.plot(t[75]*np.ones((2,1)), line, 'w-', linewidth = 1)    \n",
    "\n",
    "    ax.set_xlabel('$t$')\n",
    "    ax.set_ylabel('$x$')\n",
    "    ax.legend(frameon=False, loc = 'upper right')\n",
    "    ax.set_title('$u(t,x)$', fontsize = 10)\n",
    "\n",
    "    gs1 = gridspec.GridSpec(1, 3)\n",
    "    gs1.update(top=1-1/3, bottom=0, left=0.1, right=0.9, wspace=0.5)\n",
    "\n",
    "    ax = plt.subplot(gs1[0, 0])\n",
    "    ax.plot(x,truth[25,:], 'b-', linewidth = 2, label = 'truth')       \n",
    "    ax.plot(x,U_pred[25,:], 'r--', linewidth = 2, label = 'Prediction')\n",
    "    ax.set_xlabel('$x$')\n",
    "    ax.set_ylabel('$u(t,x)$')    \n",
    "    ax.set_title('$t = 0.25$', fontsize = 10)\n",
    "    ax.axis('square')\n",
    "    ax.set_xlim([-1.1,1.1])\n",
    "    ax.set_ylim([-1.1,1.1])\n",
    "\n",
    "    ax = plt.subplot(gs1[0, 1])\n",
    "    ax.plot(x,truth[50,:], 'b-', linewidth = 2, label = 'truth')       \n",
    "    ax.plot(x,U_pred[50,:], 'r--', linewidth = 2, label = 'Prediction')\n",
    "    ax.set_xlabel('$x$')\n",
    "    ax.set_ylabel('$u(t,x)$')\n",
    "    ax.axis('square')\n",
    "    ax.set_xlim([-1.1,1.1])\n",
    "    ax.set_ylim([-1.1,1.1])\n",
    "    ax.set_title('$t = 0.50$', fontsize = 10)\n",
    "    ax.legend(loc='upper center', bbox_to_anchor=(0.5, -0.35), ncol=5, frameon=False)\n",
    "\n",
    "    ax = plt.subplot(gs1[0, 2])\n",
    "    ax.plot(x,truth[75,:], 'b-', linewidth = 2, label = 'truth')       \n",
    "    ax.plot(x,U_pred[75,:], 'r--', linewidth = 2, label = 'Prediction')\n",
    "    ax.set_xlabel('$x$')\n",
    "    ax.set_ylabel('$u(t,x)$')\n",
    "    ax.axis('square')\n",
    "    ax.set_xlim([-1.1,1.1])\n",
    "    ax.set_ylim([-1.1,1.1])    \n",
    "    ax.set_title('$t = 0.75$', fontsize = 10)\n",
    "    plt.show();"
   ]
  },
  {
   "cell_type": "markdown",
   "metadata": {
    "id": "mWo3_LIafh1a"
   },
   "source": [
    "# Data"
   ]
  },
  {
   "cell_type": "code",
   "execution_count": 5,
   "metadata": {
    "colab": {
     "base_uri": "https://localhost:8080/"
    },
    "id": "FJEkJyezYbTp",
    "outputId": "d6e37261-3e18-407d-b936-4dd9f55b6bd3"
   },
   "outputs": [
    {
     "data": {
      "text/plain": [
       "dict_keys(['__header__', '__version__', '__globals__', 'x', 't', 'usol'])"
      ]
     },
     "execution_count": 5,
     "metadata": {},
     "output_type": "execute_result"
    }
   ],
   "source": [
    "# data = loadmat('/content/PINNs/appendix/Data/burgers_shock.mat')\n",
    "data = loadmat('./burgers_shock.mat')\n",
    "data.keys()"
   ]
  },
  {
   "cell_type": "code",
   "execution_count": 6,
   "metadata": {
    "colab": {
     "base_uri": "https://localhost:8080/"
    },
    "id": "IYcuMz_ZZBWp",
    "outputId": "aec6c372-a15b-490e-da68-7c1cfdc52025"
   },
   "outputs": [
    {
     "data": {
      "text/plain": [
       "((256, 1), (100, 1), (256, 100))"
      ]
     },
     "execution_count": 6,
     "metadata": {},
     "output_type": "execute_result"
    }
   ],
   "source": [
    "data['x'].shape, data['t'].shape, data['usol'].shape"
   ]
  },
  {
   "cell_type": "code",
   "execution_count": 7,
   "metadata": {
    "colab": {
     "base_uri": "https://localhost:8080/",
     "height": 446
    },
    "id": "XdR-rrLlcjNQ",
    "outputId": "558a3ed9-4d1d-4151-9509-39a6886b24b2"
   },
   "outputs": [
    {
     "data": {
      "image/png": "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\n",
      "text/plain": [
       "<Figure size 1000x700 with 2 Axes>"
      ]
     },
     "metadata": {},
     "output_type": "display_data"
    }
   ],
   "source": [
    "plt.figure(figsize=(10,7))\n",
    "fig = plt.imshow(data['usol'], interpolation='nearest', cmap='rainbow', \n",
    "            extent=[data['t'].min(), data['t'].max(), data['x'].min(), data['x'].max()], \n",
    "            origin='lower', aspect='auto')\n",
    "plt.xlabel('t')\n",
    "plt.ylabel('x')\n",
    "plt.colorbar()\n",
    "plt.show();\n"
   ]
  },
  {
   "cell_type": "markdown",
   "metadata": {
    "id": "hBBPB_eq-ba2"
   },
   "source": [
    "This is the basic function the NN is trying to learn, but doesn't include any information about additional derivative behavior. This is just surface features."
   ]
  },
  {
   "cell_type": "markdown",
   "metadata": {
    "id": "QlqfgEJE-2tM"
   },
   "source": [
    "Build all of the data including the boundary and interior points for $u$ and $f$"
   ]
  },
  {
   "cell_type": "code",
   "execution_count": 8,
   "metadata": {
    "colab": {
     "base_uri": "https://localhost:8080/"
    },
    "id": "pbqZG50fq93q",
    "outputId": "62556b3e-9a4b-4ae2-a651-5fa91fddc1c6"
   },
   "outputs": [
    {
     "data": {
      "text/plain": [
       "((50, 2), (50, 1), (10000, 2), (25600, 2), (25600, 1), (100, 256))"
      ]
     },
     "execution_count": 8,
     "metadata": {},
     "output_type": "execute_result"
    }
   ],
   "source": [
    "np.random.seed(42)\n",
    "\n",
    "# data\n",
    "N_u = 50\n",
    "N_f = 10000\n",
    "\n",
    "# extract data from matlab file\n",
    "t = data['t'].flatten()[:,None]\n",
    "x = data['x'].flatten()[:,None]\n",
    "\n",
    "# true values of U\n",
    "truth = np.real(data['usol']).T\n",
    "\n",
    "# mesh grid of inputs\n",
    "X, T = np.meshgrid(x,t)\n",
    "\n",
    "# all data (reduce for RAM)\n",
    "X_star = np.hstack((X.flatten()[:,None], T.flatten()[:,None]))\n",
    "u_star = truth.flatten()[:,None]\n",
    "# idx = np.random.choice(X_star.shape[0], 12800, replace=False)\n",
    "# X_star = X_star[idx,:]\n",
    "# u_star = u_star[idx,:]\n",
    "\n",
    "# Domain bounds\n",
    "lb = X_star.min(0)\n",
    "ub = X_star.max(0)  \n",
    "\n",
    "# build inputs and outputs for U(t,x)\n",
    "# paper and code repo swap order ot t and x in U(t,x)\n",
    "\n",
    "#(x, 0) data with x, t=0. Eq 3 u(0,x) = -sin(pi*x)\n",
    "xt0 = np.hstack((X[0:1,:].T, T[0:1,:].T))\n",
    "u_xt0 = truth[0:1,:].T # solutions to u(0,x)\n",
    "\n",
    "#(-1, t) data with x=-1, t. Eq 3 u(t,-1) = 0\n",
    "xminus1t = np.hstack((X[:,0:1], T[:,0:1]))\n",
    "u_xminus1t = truth[:,0:1] # solutions to u(t,-1)\n",
    "\n",
    "#(1, t) data with x=1, t. Eq 3 u(t,1) = 0\n",
    "x1t = np.hstack((X[:,-1:], T[:,-1:]))\n",
    "u_x1t = truth[:,-1:]\n",
    "\n",
    "X_u_train = np.vstack([xt0, xminus1t, x1t])\n",
    "u_train = np.vstack([u_xt0, u_xminus1t, u_x1t])\n",
    "\n",
    "\n",
    "idx = np.random.choice(X_u_train.shape[0], N_u, replace=False)\n",
    "X_u_train = X_u_train[idx, :]\n",
    "u_train = u_train[idx,:]\n",
    "\n",
    "# build input for f(t,x), f=0\n",
    "\n",
    "# X_f_train is combination of boundary data above and hypercube sample scaled\n",
    "# when passed into f it should equal zero\n",
    "X_f_train = lb + (ub-lb)*lhs(2, N_f)\n",
    "\n",
    "X_u_train.shape, u_train.shape, X_f_train.shape, X_star.shape, u_star.shape, X.shape"
   ]
  },
  {
   "cell_type": "code",
   "execution_count": 9,
   "metadata": {},
   "outputs": [
    {
     "data": {
      "text/plain": [
       "array([[ 0.0412089 ,  0.87271186],\n",
       "       [ 0.44606178,  0.43545991],\n",
       "       [ 0.6856612 ,  0.8142714 ],\n",
       "       ...,\n",
       "       [-0.20610397,  0.48534616],\n",
       "       [ 0.11326385,  0.79674134],\n",
       "       [ 0.03567754,  0.54043731]])"
      ]
     },
     "execution_count": 9,
     "metadata": {},
     "output_type": "execute_result"
    }
   ],
   "source": [
    "X_f_train"
   ]
  },
  {
   "cell_type": "markdown",
   "metadata": {},
   "source": [
    "# Naive version\n",
    "Just model U without additional partial derivative information"
   ]
  },
  {
   "cell_type": "markdown",
   "metadata": {},
   "source": [
    "## Model"
   ]
  },
  {
   "cell_type": "code",
   "execution_count": 10,
   "metadata": {},
   "outputs": [
    {
     "name": "stdout",
     "output_type": "stream",
     "text": [
      "Model: \"model\"\n",
      "_________________________________________________________________\n",
      "Layer (type)                 Output Shape              Param #   \n",
      "=================================================================\n",
      "input_1 (InputLayer)         [(None, 2)]               0         \n",
      "_________________________________________________________________\n",
      "lambda (Lambda)              (None, 2)                 0         \n",
      "_________________________________________________________________\n",
      "dense (Dense)                (None, 20)                60        \n",
      "_________________________________________________________________\n",
      "dense_1 (Dense)              (None, 20)                420       \n",
      "_________________________________________________________________\n",
      "dense_2 (Dense)              (None, 20)                420       \n",
      "_________________________________________________________________\n",
      "dense_3 (Dense)              (None, 20)                420       \n",
      "_________________________________________________________________\n",
      "dense_4 (Dense)              (None, 20)                420       \n",
      "_________________________________________________________________\n",
      "dense_5 (Dense)              (None, 20)                420       \n",
      "_________________________________________________________________\n",
      "dense_6 (Dense)              (None, 1)                 21        \n",
      "=================================================================\n",
      "Total params: 2,181\n",
      "Trainable params: 2,181\n",
      "Non-trainable params: 0\n",
      "_________________________________________________________________\n"
     ]
    }
   ],
   "source": [
    "initializer = tf.keras.initializers.GlorotNormal()\n",
    "\n",
    "inputs = layers.Input(shape=(2,), dtype=tf.float64)\n",
    "z = layers.Lambda(lambda X: 2.0*(X - lb)/(ub - lb) - 1.0)(inputs)\n",
    "z = layers.Dense(20, activation=\"tanh\", kernel_initializer=initializer)(z)\n",
    "z = layers.Dense(20, activation=\"tanh\", kernel_initializer=initializer)(z)\n",
    "z = layers.Dense(20, activation=\"tanh\", kernel_initializer=initializer)(z)\n",
    "z = layers.Dense(20, activation=\"tanh\", kernel_initializer=initializer)(z)\n",
    "z = layers.Dense(20, activation=\"tanh\", kernel_initializer=initializer)(z)\n",
    "z = layers.Dense(20, activation=\"tanh\", kernel_initializer=initializer)(z)\n",
    "outputs = layers.Dense(1, kernel_initializer=initializer)(z)\n",
    "\n",
    "U_model_naive = tf.keras.Model(inputs=inputs, outputs=outputs)\n",
    "\n",
    "U_model_naive.summary()"
   ]
  },
  {
   "cell_type": "code",
   "execution_count": 11,
   "metadata": {},
   "outputs": [
    {
     "data": {
      "text/plain": [
       "6400.0"
      ]
     },
     "execution_count": 11,
     "metadata": {},
     "output_type": "execute_result"
    }
   ],
   "source": [
    "BATCH_SIZE = 32\n",
    "EPOCHS = 1000\n",
    "\n",
    "optimizer = tf.keras.optimizers.Adam(learning_rate=0.01,\n",
    "                                     beta_1=0.99,\n",
    "                                     epsilon=1e-1)\n",
    "\n",
    "f_batch_size = np.floor(X_f_train.shape[0] / (X_u_train.shape[0] / BATCH_SIZE))\n",
    "f_batch_size"
   ]
  },
  {
   "cell_type": "markdown",
   "metadata": {},
   "source": [
    "## training"
   ]
  },
  {
   "cell_type": "code",
   "execution_count": 12,
   "metadata": {},
   "outputs": [
    {
     "name": "stdout",
     "output_type": "stream",
     "text": [
      "Epoch 0 Loss: 0.3341778293251991\n",
      "Epoch 10 Loss: 0.2841505706310272\n",
      "Epoch 20 Loss: 0.27277398109436035\n",
      "Epoch 30 Loss: 0.24993514269590378\n",
      "Epoch 40 Loss: 0.2680903598666191\n",
      "Epoch 50 Loss: 0.24298344552516937\n",
      "Epoch 60 Loss: 0.22991688549518585\n",
      "Epoch 70 Loss: 0.21154410392045975\n",
      "Epoch 80 Loss: 0.19241570681333542\n",
      "Epoch 90 Loss: 0.18682265281677246\n",
      "Epoch 100 Loss: 0.16564837098121643\n",
      "Epoch 110 Loss: 0.13502836972475052\n",
      "Epoch 120 Loss: 0.09716382250189781\n",
      "Epoch 130 Loss: 0.06523966230452061\n",
      "Epoch 140 Loss: 0.032366774044930935\n",
      "Epoch 150 Loss: 0.022899927105754614\n",
      "Epoch 160 Loss: 0.031280433759093285\n",
      "Epoch 170 Loss: 0.04207831062376499\n",
      "Epoch 180 Loss: 0.04263390228152275\n",
      "Epoch 190 Loss: 0.03374782297760248\n",
      "Epoch 200 Loss: 0.026003392413258553\n",
      "Epoch 210 Loss: 0.021781387738883495\n",
      "Epoch 220 Loss: 0.022258764132857323\n",
      "Epoch 230 Loss: 0.022131657227873802\n",
      "Epoch 240 Loss: 0.020470835268497467\n",
      "Epoch 250 Loss: 0.02140506263822317\n",
      "Epoch 260 Loss: 0.016566480975598097\n",
      "Epoch 270 Loss: 0.014024814125150442\n",
      "Epoch 280 Loss: 0.013684209436178207\n",
      "Epoch 290 Loss: 0.013754838146269321\n",
      "Epoch 300 Loss: 0.011998253874480724\n",
      "Epoch 310 Loss: 0.012599959969520569\n",
      "Epoch 320 Loss: 0.009444416267797351\n",
      "Epoch 330 Loss: 0.008631053613498807\n",
      "Epoch 340 Loss: 0.009523989632725716\n",
      "Epoch 350 Loss: 0.009326944593340158\n",
      "Epoch 360 Loss: 0.009096107445657253\n",
      "Epoch 370 Loss: 0.008697209414094687\n",
      "Epoch 380 Loss: 0.008343781810253859\n",
      "Epoch 390 Loss: 0.007217140402644873\n",
      "Epoch 400 Loss: 0.007960635237395763\n",
      "Epoch 410 Loss: 0.006397999124601483\n",
      "Epoch 420 Loss: 0.006702038925141096\n",
      "Epoch 430 Loss: 0.0066742615308612585\n",
      "Epoch 440 Loss: 0.005778881488367915\n",
      "Epoch 450 Loss: 0.005131860147230327\n",
      "Epoch 460 Loss: 0.005165274254977703\n",
      "Epoch 470 Loss: 0.005359494127333164\n",
      "Epoch 480 Loss: 0.004696836927905679\n",
      "Epoch 490 Loss: 0.004921358777210116\n",
      "Epoch 500 Loss: 0.004675658885389566\n",
      "Epoch 510 Loss: 0.004615364829078317\n",
      "Epoch 520 Loss: 0.004427617648616433\n",
      "Epoch 530 Loss: 0.004031310905702412\n",
      "Epoch 540 Loss: 0.003966425894759595\n",
      "Epoch 550 Loss: 0.003669625846669078\n",
      "Epoch 560 Loss: 0.0035788280656561255\n",
      "Epoch 570 Loss: 0.004301799111999571\n",
      "Epoch 580 Loss: 0.003713432466611266\n",
      "Epoch 590 Loss: 0.0032705413177609444\n",
      "Epoch 600 Loss: 0.00302456587087363\n",
      "Epoch 610 Loss: 0.003392367740161717\n",
      "Epoch 620 Loss: 0.003016919130459428\n",
      "Epoch 630 Loss: 0.00318767293356359\n",
      "Epoch 640 Loss: 0.0031151961302384734\n",
      "Epoch 650 Loss: 0.0025582765229046345\n",
      "Epoch 660 Loss: 0.0025943079381249845\n",
      "Epoch 670 Loss: 0.0026166836032643914\n",
      "Epoch 680 Loss: 0.0025054332800209522\n",
      "Epoch 690 Loss: 0.0024237673496827483\n",
      "Epoch 700 Loss: 0.0023168190964497626\n",
      "Epoch 710 Loss: 0.0023578409454785287\n",
      "Epoch 720 Loss: 0.0022677849628962576\n",
      "Epoch 730 Loss: 0.0025797166163101792\n",
      "Epoch 740 Loss: 0.0027397822705097497\n",
      "Epoch 750 Loss: 0.0024562805192545056\n",
      "Epoch 760 Loss: 0.0020809993147850037\n",
      "Epoch 770 Loss: 0.002509828598704189\n",
      "Epoch 780 Loss: 0.0026797192986123264\n",
      "Epoch 790 Loss: 0.0023921760730445385\n",
      "Epoch 800 Loss: 0.0023070164024829865\n",
      "Epoch 810 Loss: 0.0021348254522308707\n",
      "Epoch 820 Loss: 0.002370550122577697\n",
      "Epoch 830 Loss: 0.002299864892847836\n",
      "Epoch 840 Loss: 0.0022164159454405308\n",
      "Epoch 850 Loss: 0.0018183203064836562\n",
      "Epoch 860 Loss: 0.0019516596221365035\n",
      "Epoch 870 Loss: 0.0021052603842690587\n",
      "Epoch 880 Loss: 0.0019470910774543881\n",
      "Epoch 890 Loss: 0.0023249613004736602\n",
      "Epoch 900 Loss: 0.0020012525492347777\n",
      "Epoch 910 Loss: 0.002162619261071086\n",
      "Epoch 920 Loss: 0.0019484702497720718\n",
      "Epoch 930 Loss: 0.002111699664965272\n",
      "Epoch 940 Loss: 0.0017296980659011751\n",
      "Epoch 950 Loss: 0.0020457642385736108\n",
      "Epoch 960 Loss: 0.0017635731492191553\n",
      "Epoch 970 Loss: 0.0017907615401782095\n",
      "Epoch 980 Loss: 0.0024030295899137855\n",
      "Epoch 990 Loss: 0.0020400728099048138\n"
     ]
    }
   ],
   "source": [
    "U_dataset = tf.data.Dataset.from_tensor_slices((X_u_train, u_train))\n",
    "U_dataset = U_dataset.shuffle(buffer_size=100).batch(BATCH_SIZE)\n",
    "\n",
    "# @tf.function\n",
    "def train_step(X_u, u_true):\n",
    "    with tf.GradientTape() as tape:\n",
    "\n",
    "        u_pred = tf.cast(U_model_naive(X_u), tf.float64)\n",
    "\n",
    "        loss = tf.losses.MeanSquaredError()(u_true, u_pred)\n",
    "    grads = tape.gradient(loss, U_model_naive.trainable_weights)\n",
    "    optimizer.apply_gradients(zip(grads, U_model_naive.trainable_weights))\n",
    "    return loss\n",
    "\n",
    "loss_hist = []\n",
    "for epoch in range(EPOCHS):\n",
    "    ep_loss = []\n",
    "    for step, (X_u_batch_train, u_batch_train) in enumerate(U_dataset):\n",
    "\n",
    "        loss_i = train_step(X_u_batch_train, u_batch_train)\n",
    "        ep_loss.append(loss_i)\n",
    "    \n",
    "    loss_hist.append(tf.reduce_mean(ep_loss))\n",
    "\n",
    "    U_dataset = tf.data.Dataset.from_tensor_slices((X_u_train, u_train))\n",
    "    U_dataset = U_dataset.shuffle(buffer_size=100).batch(BATCH_SIZE)\n",
    "\n",
    "    if epoch % 10 == 0:\n",
    "        print(f\"Epoch {epoch} Loss: {tf.reduce_mean(ep_loss)}\")"
   ]
  },
  {
   "cell_type": "code",
   "execution_count": 13,
   "metadata": {},
   "outputs": [
    {
     "data": {
      "image/png": "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